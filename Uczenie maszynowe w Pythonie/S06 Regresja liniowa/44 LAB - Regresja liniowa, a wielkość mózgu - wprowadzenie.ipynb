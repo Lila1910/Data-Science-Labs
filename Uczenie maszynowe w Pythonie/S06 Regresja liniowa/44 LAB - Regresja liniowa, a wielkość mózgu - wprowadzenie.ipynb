{
 "cells": [
  {
   "cell_type": "code",
   "execution_count": 1,
   "id": "bd1cef6e",
   "metadata": {},
   "outputs": [],
   "source": [
    "    import numpy as np\n",
    "    import pandas as pd\n",
    "    import matplotlib.pyplot as plt\n",
    "    from sklearn.linear_model import LinearRegression"
   ]
  },
  {
   "cell_type": "code",
   "execution_count": 5,
   "id": "e8f13b99",
   "metadata": {},
   "outputs": [
    {
     "data": {
      "text/html": [
       "<div>\n",
       "<style scoped>\n",
       "    .dataframe tbody tr th:only-of-type {\n",
       "        vertical-align: middle;\n",
       "    }\n",
       "\n",
       "    .dataframe tbody tr th {\n",
       "        vertical-align: top;\n",
       "    }\n",
       "\n",
       "    .dataframe thead th {\n",
       "        text-align: right;\n",
       "    }\n",
       "</style>\n",
       "<table border=\"1\" class=\"dataframe\">\n",
       "  <thead>\n",
       "    <tr style=\"text-align: right;\">\n",
       "      <th></th>\n",
       "      <th>high_GPA</th>\n",
       "      <th>math_SAT</th>\n",
       "      <th>verb_SAT</th>\n",
       "    </tr>\n",
       "  </thead>\n",
       "  <tbody>\n",
       "    <tr>\n",
       "      <th>0</th>\n",
       "      <td>3.45</td>\n",
       "      <td>643</td>\n",
       "      <td>589</td>\n",
       "    </tr>\n",
       "    <tr>\n",
       "      <th>1</th>\n",
       "      <td>2.78</td>\n",
       "      <td>558</td>\n",
       "      <td>512</td>\n",
       "    </tr>\n",
       "    <tr>\n",
       "      <th>2</th>\n",
       "      <td>2.52</td>\n",
       "      <td>583</td>\n",
       "      <td>503</td>\n",
       "    </tr>\n",
       "    <tr>\n",
       "      <th>3</th>\n",
       "      <td>3.67</td>\n",
       "      <td>685</td>\n",
       "      <td>602</td>\n",
       "    </tr>\n",
       "    <tr>\n",
       "      <th>4</th>\n",
       "      <td>3.24</td>\n",
       "      <td>592</td>\n",
       "      <td>538</td>\n",
       "    </tr>\n",
       "  </tbody>\n",
       "</table>\n",
       "</div>"
      ],
      "text/plain": [
       "   high_GPA  math_SAT  verb_SAT\n",
       "0      3.45       643       589\n",
       "1      2.78       558       512\n",
       "2      2.52       583       503\n",
       "3      3.67       685       602\n",
       "4      3.24       592       538"
      ]
     },
     "execution_count": 5,
     "metadata": {},
     "output_type": "execute_result"
    }
   ],
   "source": [
    "    data = pd.read_csv(r\"C:/PythonScripts/course-files2/high_school_sat_gpa.csv\",\n",
    "                       sep=' ', usecols=['math_SAT','verb_SAT','high_GPA'])\n",
    "     \n",
    "    data.head()"
   ]
  },
  {
   "cell_type": "code",
   "execution_count": 7,
   "id": "d95e9737",
   "metadata": {},
   "outputs": [
    {
     "data": {
      "text/plain": [
       "high_GPA    float64\n",
       "math_SAT      int64\n",
       "verb_SAT      int64\n",
       "dtype: object"
      ]
     },
     "execution_count": 7,
     "metadata": {},
     "output_type": "execute_result"
    }
   ],
   "source": [
    "data.dtypes"
   ]
  },
  {
   "cell_type": "code",
   "execution_count": 8,
   "id": "66b86294",
   "metadata": {},
   "outputs": [
    {
     "data": {
      "text/plain": [
       "<matplotlib.collections.PathCollection at 0x1e487778e20>"
      ]
     },
     "execution_count": 8,
     "metadata": {},
     "output_type": "execute_result"
    },
    {
     "data": {
      "image/png": "[encoded data removed]",
      "text/plain": [
       "<Figure size 504x360 with 1 Axes>"
      ]
     },
     "metadata": {
      "needs_background": "light"
     },
     "output_type": "display_data"
    }
   ],
   "source": [
    "plt.figure(figsize=(7,5))\n",
    "plt.scatter(data['math_SAT'], data['high_GPA'])"
   ]
  },
  {
   "cell_type": "code",
   "execution_count": 15,
   "id": "fe63f593",
   "metadata": {},
   "outputs": [],
   "source": [
    "lr_math = LinearRegression()\n",
    "lr_math.fit(data['math_SAT'].values.reshape(-1,1), data['high_GPA'].values.reshape(-1,1))\n",
    "x_min = data['math_SAT'].min()\n",
    "x_max = data['math_SAT'].max()\n",
    "pred = lr_math.predict([[x_min], [x_max]])"
   ]
  },
  {
   "cell_type": "code",
   "execution_count": 18,
   "id": "4501e15e",
   "metadata": {},
   "outputs": [
    {
     "data": {
      "image/png": "[encoded data removed]",
      "text/plain": [
       "<Figure size 504x360 with 1 Axes>"
      ]
     },
     "metadata": {
      "needs_background": "light"
     },
     "output_type": "display_data"
    }
   ],
   "source": [
    "plt.figure(figsize=(7,5))\n",
    "plt.scatter(data['math_SAT'], data['high_GPA'])\n",
    "plt.plot([x_min, x_max], pred, color='red')\n",
    "plt.show()"
   ]
  },
  {
   "cell_type": "code",
   "execution_count": 21,
   "id": "018902d3",
   "metadata": {},
   "outputs": [
    {
     "data": {
      "text/plain": [
       "<matplotlib.collections.PathCollection at 0x1e488b599d0>"
      ]
     },
     "execution_count": 21,
     "metadata": {},
     "output_type": "execute_result"
    },
    {
     "data": {
      "image/png": "[encoded data removed]",
      "text/plain": [
       "<Figure size 504x360 with 1 Axes>"
      ]
     },
     "metadata": {
      "needs_background": "light"
     },
     "output_type": "display_data"
    }
   ],
   "source": [
    "plt.figure(figsize=(7,5))\n",
    "plt.scatter(data['verb_SAT'], data['high_GPA'])"
   ]
  },
  {
   "cell_type": "code",
   "execution_count": 30,
   "id": "f1f7f887",
   "metadata": {},
   "outputs": [],
   "source": [
    "lr_verb = LinearRegression()\n",
    "lr_verb.fit(data['verb_SAT'].values.reshape(-1,1), data['high_GPA'].values)\n",
    "x_min = data['verb_SAT'].min()\n",
    "x_max = data['verb_SAT'].max()\n",
    "pred = lr_verb.predict([[x_min], [x_max]])"
   ]
  },
  {
   "cell_type": "code",
   "execution_count": 23,
   "id": "a2cd03d8",
   "metadata": {},
   "outputs": [
    {
     "data": {
      "image/png": "[encoded data removed]",
      "text/plain": [
       "<Figure size 504x360 with 1 Axes>"
      ]
     },
     "metadata": {
      "needs_background": "light"
     },
     "output_type": "display_data"
    }
   ],
   "source": [
    "plt.figure(figsize=(7,5))\n",
    "plt.scatter(data['verb_SAT'], data['high_GPA'])\n",
    "plt.plot([x_min, x_max], pred, color='red')\n",
    "plt.show()"
   ]
  },
  {
   "cell_type": "code",
   "execution_count": 25,
   "id": "512be907",
   "metadata": {},
   "outputs": [
    {
     "data": {
      "text/plain": [
       "array([[3.0757961]])"
      ]
     },
     "execution_count": 25,
     "metadata": {},
     "output_type": "execute_result"
    }
   ],
   "source": [
    "lr = LinearRegression()\n",
    "lr.fit(data[['math_SAT','verb_SAT']].values, data['high_GPA'].values.reshape(-1,1))\n",
    "student_john = np.array([600,650]).reshape(1,2)\n",
    "john = lr.predict(student_john)\n",
    "john"
   ]
  },
  {
   "cell_type": "code",
   "execution_count": 29,
   "id": "f96352f4",
   "metadata": {},
   "outputs": [
    {
     "data": {
      "text/plain": [
       "array([[600, 650]])"
      ]
     },
     "execution_count": 29,
     "metadata": {},
     "output_type": "execute_result"
    }
   ],
   "source": [
    "np.array([600,650]).reshape(1,2)"
   ]
  },
  {
   "cell_type": "code",
   "execution_count": null,
   "id": "6b299479",
   "metadata": {},
   "outputs": [],
   "source": []
  }
 ],
 "metadata": {
  "kernelspec": {
   "display_name": "Python 3 (ipykernel)",
   "language": "python",
   "name": "python3"
  },
  "language_info": {
   "codemirror_mode": {
    "name": "ipython",
    "version": 3
   },
   "file_extension": ".py",
   "mimetype": "text/x-python",
   "name": "python",
   "nbconvert_exporter": "python",
   "pygments_lexer": "ipython3",
   "version": "3.9.7"
  }
 },
 "nbformat": 4,
 "nbformat_minor": 5
}
