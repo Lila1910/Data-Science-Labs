{
 "cells": [
  {
   "cell_type": "code",
   "execution_count": 1,
   "id": "8b880684",
   "metadata": {},
   "outputs": [],
   "source": [
    "import numpy as np"
   ]
  },
  {
   "cell_type": "code",
   "execution_count": 3,
   "id": "540d07cc",
   "metadata": {},
   "outputs": [
    {
     "data": {
      "text/plain": [
       "0.040186261761104625"
      ]
     },
     "execution_count": 3,
     "metadata": {},
     "output_type": "execute_result"
    }
   ],
   "source": [
    "rand_a=np.random.rand()\n",
    "rand_a"
   ]
  },
  {
   "cell_type": "code",
   "execution_count": 4,
   "id": "6fe06ff0",
   "metadata": {},
   "outputs": [
    {
     "data": {
      "text/plain": [
       "array([[0.39300925, 0.07385489, 0.80700343, 0.67686073, 0.27175713],\n",
       "       [0.50742277, 0.78367592, 0.48189096, 0.42696866, 0.67448568]])"
      ]
     },
     "execution_count": 4,
     "metadata": {},
     "output_type": "execute_result"
    }
   ],
   "source": [
    "rand_a=np.random.rand(2,5)\n",
    "rand_a"
   ]
  },
  {
   "cell_type": "code",
   "execution_count": 6,
   "id": "60a268ac",
   "metadata": {},
   "outputs": [
    {
     "data": {
      "text/plain": [
       "array([[0.7694302 , 0.08110783, 0.49206927, 0.53682944, 0.77888055]])"
      ]
     },
     "execution_count": 6,
     "metadata": {},
     "output_type": "execute_result"
    }
   ],
   "source": [
    "rand_b=np.random.rand(1,5)\n",
    "rand_b"
   ]
  },
  {
   "cell_type": "code",
   "execution_count": 7,
   "id": "8fb7c8c5",
   "metadata": {},
   "outputs": [
    {
     "data": {
      "text/plain": [
       "array([[76.94302002,  8.11078306, 49.20692698, 53.68294394, 77.88805497]])"
      ]
     },
     "execution_count": 7,
     "metadata": {},
     "output_type": "execute_result"
    }
   ],
   "source": [
    "rand_b=rand_b*100\n",
    "rand_b"
   ]
  },
  {
   "cell_type": "code",
   "execution_count": 9,
   "id": "1e63bc3a",
   "metadata": {},
   "outputs": [
    {
     "data": {
      "text/plain": [
       "array([[3.93009254e-01, 7.38548928e-02, 8.07003427e-01, 6.76860728e-01,\n",
       "        2.71757133e-01],\n",
       "       [5.07422770e-01, 7.83675917e-01, 4.81890956e-01, 4.26968659e-01,\n",
       "        6.74485679e-01],\n",
       "       [7.69430200e+01, 8.11078306e+00, 4.92069270e+01, 5.36829439e+01,\n",
       "        7.78880550e+01]])"
      ]
     },
     "execution_count": 9,
     "metadata": {},
     "output_type": "execute_result"
    }
   ],
   "source": [
    "rand_c=np.vstack([rand_a,rand_b])\n",
    "rand_c"
   ]
  },
  {
   "cell_type": "code",
   "execution_count": 10,
   "id": "d110c301",
   "metadata": {},
   "outputs": [
    {
     "data": {
      "text/plain": [
       "array([[0.22974256],\n",
       "       [0.09685554]])"
      ]
     },
     "execution_count": 10,
     "metadata": {},
     "output_type": "execute_result"
    }
   ],
   "source": [
    "rand_b=np.random.rand(2,1)\n",
    "rand_b"
   ]
  },
  {
   "cell_type": "code",
   "execution_count": 11,
   "id": "e7f5a4e1",
   "metadata": {},
   "outputs": [
    {
     "data": {
      "text/plain": [
       "array([[0.39300925, 0.07385489, 0.80700343, 0.67686073, 0.27175713,\n",
       "        0.22974256],\n",
       "       [0.50742277, 0.78367592, 0.48189096, 0.42696866, 0.67448568,\n",
       "        0.09685554]])"
      ]
     },
     "execution_count": 11,
     "metadata": {},
     "output_type": "execute_result"
    }
   ],
   "source": [
    "rand_c=np.hstack([rand_a,rand_b])\n",
    "rand_c"
   ]
  },
  {
   "cell_type": "code",
   "execution_count": 12,
   "id": "4fc3a06a",
   "metadata": {},
   "outputs": [
    {
     "data": {
      "text/plain": [
       "array([0.07385489, 0.78367592])"
      ]
     },
     "execution_count": 12,
     "metadata": {},
     "output_type": "execute_result"
    }
   ],
   "source": [
    "X=rand_c[:,1]\n",
    "X"
   ]
  },
  {
   "cell_type": "code",
   "execution_count": 13,
   "id": "8c1eee7c",
   "metadata": {},
   "outputs": [
    {
     "data": {
      "text/plain": [
       "array([ 8.22156468, 10.35102775])"
      ]
     },
     "execution_count": 13,
     "metadata": {},
     "output_type": "execute_result"
    }
   ],
   "source": [
    "a=3\n",
    "b=8\n",
    "y=a*X+b\n",
    "y"
   ]
  },
  {
   "cell_type": "code",
   "execution_count": 14,
   "id": "902c0d23",
   "metadata": {},
   "outputs": [
    {
     "data": {
      "text/plain": [
       "array([1, 4, 4, 7, 7, 8, 2, 1, 9, 9])"
      ]
     },
     "execution_count": 14,
     "metadata": {},
     "output_type": "execute_result"
    }
   ],
   "source": [
    "X=np.random.randint(low=0,high=10,size=10)\n",
    "X"
   ]
  },
  {
   "cell_type": "code",
   "execution_count": 15,
   "id": "43805692",
   "metadata": {},
   "outputs": [
    {
     "data": {
      "text/plain": [
       "array([10, 40, 40, 70, 70, 80, 20, 10, 90, 90])"
      ]
     },
     "execution_count": 15,
     "metadata": {},
     "output_type": "execute_result"
    }
   ],
   "source": [
    "X=X*10\n",
    "X"
   ]
  },
  {
   "cell_type": "code",
   "execution_count": 23,
   "id": "b2ea7b4f",
   "metadata": {},
   "outputs": [
    {
     "data": {
      "text/plain": [
       "array([6, 5, 7])"
      ]
     },
     "execution_count": 23,
     "metadata": {},
     "output_type": "execute_result"
    }
   ],
   "source": [
    "np.random.choice(10, size=3, replace=False)"
   ]
  },
  {
   "cell_type": "code",
   "execution_count": 27,
   "id": "83bd68bc",
   "metadata": {},
   "outputs": [
    {
     "data": {
      "text/plain": [
       "array([20, 20, 90])"
      ]
     },
     "execution_count": 27,
     "metadata": {},
     "output_type": "execute_result"
    }
   ],
   "source": [
    "np.random.choice(X,size=3,replace=True)"
   ]
  },
  {
   "cell_type": "code",
   "execution_count": 28,
   "id": "b64a7874",
   "metadata": {},
   "outputs": [
    {
     "data": {
      "text/plain": [
       "array([10, 40, 40, 70, 70, 80, 20, 10, 90, 90])"
      ]
     },
     "execution_count": 28,
     "metadata": {},
     "output_type": "execute_result"
    }
   ],
   "source": [
    "idx=np.random.choice(X.shape[0],size=3,replace=False)\n",
    "X"
   ]
  },
  {
   "cell_type": "code",
   "execution_count": 29,
   "id": "37a9e3cd",
   "metadata": {},
   "outputs": [
    {
     "data": {
      "text/plain": [
       "array([9, 4, 5])"
      ]
     },
     "execution_count": 29,
     "metadata": {},
     "output_type": "execute_result"
    }
   ],
   "source": [
    "idx"
   ]
  },
  {
   "cell_type": "code",
   "execution_count": 30,
   "id": "0d4f5576",
   "metadata": {},
   "outputs": [
    {
     "data": {
      "text/plain": [
       "array([90, 70, 80])"
      ]
     },
     "execution_count": 30,
     "metadata": {},
     "output_type": "execute_result"
    }
   ],
   "source": [
    "X[idx]"
   ]
  },
  {
   "cell_type": "code",
   "execution_count": null,
   "id": "d47cd49a",
   "metadata": {},
   "outputs": [],
   "source": []
  }
 ],
 "metadata": {
  "kernelspec": {
   "display_name": "Python 3 (ipykernel)",
   "language": "python",
   "name": "python3"
  },
  "language_info": {
   "codemirror_mode": {
    "name": "ipython",
    "version": 3
   },
   "file_extension": ".py",
   "mimetype": "text/x-python",
   "name": "python",
   "nbconvert_exporter": "python",
   "pygments_lexer": "ipython3",
   "version": "3.9.7"
  }
 },
 "nbformat": 4,
 "nbformat_minor": 5
}
