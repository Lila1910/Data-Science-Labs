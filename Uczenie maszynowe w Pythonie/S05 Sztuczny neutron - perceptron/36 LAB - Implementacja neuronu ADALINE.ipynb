{
 "cells": [
  {
   "cell_type": "code",
   "execution_count": null,
   "id": "f047c1cf",
   "metadata": {},
   "outputs": [],
   "source": [
    "    import numpy as np\n",
    "     \n",
    "    class Perceptron:\n",
    "        \n",
    "        def __init__(self, eta=0.10, epochs=50):\n",
    "            \n",
    "            self.eta = eta\n",
    "            self.epochs = epochs\n",
    "            \n",
    "        \n",
    "        def predict(self, x):\n",
    "            \n",
    "            ones = np.ones((x.shape[0],1))\n",
    "            x_1 = np.append(x.copy(), ones, axis=1)\n",
    "            return np.where(self.get_activation(x_1) > 0, 1, -1)\n",
    "            \n",
    "        \n",
    "        def get_activation(self, x):\n",
    "            \n",
    "            activation = np.dot(x, self.w)\n",
    "            return activation\n",
    "         \n",
    "        \n",
    "        def fit(self, X, y):\n",
    "            \n",
    "            ones = np.ones((X.shape[0], 1))\n",
    "            X_1 = np.append(X.copy(), ones, axis=1)\n",
    "     \n",
    "            self.w = np.random.rand(X_1.shape[1])\n",
    "            \n",
    "            for e in range(self.epochs):\n",
    "                \n",
    "                activation = self.get_activation(X_1)\n",
    "                delta_w = self.eta * np.dot((y - activation), X_1)\n",
    "                self.w += delta_w"
   ]
  }
 ],
 "metadata": {
  "kernelspec": {
   "display_name": "Python 3 (ipykernel)",
   "language": "python",
   "name": "python3"
  },
  "language_info": {
   "codemirror_mode": {
    "name": "ipython",
    "version": 3
   },
   "file_extension": ".py",
   "mimetype": "text/x-python",
   "name": "python",
   "nbconvert_exporter": "python",
   "pygments_lexer": "ipython3",
   "version": "3.9.7"
  }
 },
 "nbformat": 4,
 "nbformat_minor": 5
}
