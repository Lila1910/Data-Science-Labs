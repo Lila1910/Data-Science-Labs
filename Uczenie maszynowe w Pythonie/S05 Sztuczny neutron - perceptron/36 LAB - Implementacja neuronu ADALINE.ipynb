{
 "cells": [
  {
   "cell_type": "code",
   "execution_count": 4,
   "id": "ce07ff4a",
   "metadata": {},
   "outputs": [],
   "source": [
    "import numpy as np\n",
    "import matplotlib.pyplot as plt\n",
    "import pandas as pd\n",
    "from sklearn.model_selection import train_test_split\n",
    "%matplotlib inline\n",
    "\n",
    "class Perceptron:\n",
    "\n",
    "    def __init__(self, eta=0.10, epochs=50, is_verbose = False):\n",
    "        \n",
    "        self.eta = eta\n",
    "        self.epochs = epochs\n",
    "        self.is_verbose = is_verbose\n",
    "        self.list_of_errors = []\n",
    "        \n",
    "    \n",
    "    def predict(self, x):\n",
    "        \n",
    "        ones = np.ones((x.shape[0],1))\n",
    "        x_1 = np.append(x.copy(), ones, axis=1)\n",
    "        #activation = self.get_activation(x_1)\n",
    "        #y_pred = np.where(activation >0, 1, -1)\n",
    "        #return y_pred\n",
    "        return np.where(self.get_activation(x_1) > 0, 1, -1)\n",
    "        \n",
    "    \n",
    "    def get_activation(self, x):\n",
    "        \n",
    "        activation = np.dot(x, self.w)\n",
    "        return activation\n",
    "    \n",
    "    \n",
    "    def fit(self, X, y):\n",
    "        \n",
    "        self.list_of_errors = []\n",
    "        \n",
    "        ones = np.ones((X.shape[0], 1))\n",
    "        X_1 = np.append(X.copy(), ones, axis=1)\n",
    "\n",
    "        self.w = np.random.rand(X_1.shape[1])\n",
    "        \n",
    "        for e in range(self.epochs):\n",
    "\n",
    "            error = 0\n",
    "            \n",
    "            activation = self.get_activation(X_1)\n",
    "            delta_w = self.eta * np.dot((y - activation), X_1)\n",
    "            self.w += delta_w\n",
    "            \n",
    "            error = np.square(y - activation).sum()/2.0\n",
    "            \n",
    "            self.list_of_errors.append(error)\n",
    "        \n",
    "            if(self.is_verbose):\n",
    "                print(\"Epoch: {}, weights: {}, error {}\".format(\n",
    "                        e, self.w, error))"
   ]
  },
  {
   "cell_type": "code",
   "execution_count": 5,
   "id": "5630eb69",
   "metadata": {},
   "outputs": [
    {
     "name": "stdout",
     "output_type": "stream",
     "text": [
      "Epoch: 0, weights: [0.56672948 0.56423264 0.36466443 0.32970277], error 207.11573212687966\n",
      "Epoch: 1, weights: [0.55212321 0.54658176 0.32087899 0.32586345], error 179.19479326657947\n",
      "Epoch: 2, weights: [0.53830977 0.530011   0.2809193  0.3222485 ], error 155.6218728155283\n",
      "Epoch: 3, weights: [0.52522773 0.51443449 0.24446561 0.31884026], error 135.70654039707318\n",
      "Epoch: 4, weights: [0.51282069 0.49977344 0.21122474 0.31562251], error 118.86827854344537\n",
      "Epoch: 5, weights: [0.50103688 0.48595556 0.18092789 0.31258041], error 104.61897944148285\n",
      "Epoch: 6, weights: [0.48982882 0.47291455 0.15332863 0.3097003 ], error 92.54822912790455\n",
      "Epoch: 7, weights: [0.4791529  0.46058957 0.12820099 0.30696967], error 82.31093522145524\n",
      "Epoch: 8, weights: [0.4689691  0.44892477 0.10533782 0.30437704], error 73.61692497418763\n",
      "Epoch: 9, weights: [0.45924069 0.43786896 0.08454918 0.30191185], error 66.22219986063168\n",
      "Epoch: 10, weights: [0.44993394 0.4273751  0.06566094 0.29956443], error 59.92158289457384\n",
      "Epoch: 11, weights: [0.44101788 0.41740007 0.04851345 0.29732591], error 54.54253687605485\n",
      "Epoch: 12, weights: [0.43246408 0.40790428 0.03296034 0.29518812], error 49.93996709335319\n",
      "Epoch: 13, weights: [0.42424642 0.39885138 0.01886742 0.29314359], error 45.991851701677845\n",
      "Epoch: 14, weights: [0.41634091 0.39020803 0.00611167 0.29118544], error 42.59556796788511\n",
      "Epoch: 15, weights: [ 0.40872552  0.3819436  -0.0054197   0.28930736], error 39.664803561933255\n",
      "Epoch: 16, weights: [ 0.40138     0.37402998 -0.01583008  0.28750356], error 37.126959724218054\n",
      "Epoch: 17, weights: [ 0.39428576  0.36644137 -0.02521427  0.28576871], error 34.92096797577644\n",
      "Epoch: 18, weights: [ 0.38742569  0.35915407 -0.03365917  0.28409793], error 32.99545451320045\n",
      "Epoch: 19, weights: [ 0.38078409  0.3521463  -0.04124444  0.28248672], error 31.307196918285655\n",
      "Epoch: 20, weights: [ 0.3743465   0.34539809 -0.04804311  0.28093096], error 29.819826630333633\n",
      "Epoch: 21, weights: [ 0.36809965  0.33889107 -0.05412211  0.27942686], error 28.502738042636615\n",
      "Epoch: 22, weights: [ 0.36203131  0.33260836 -0.05954283  0.27797092], error 27.330171317632924\n",
      "Epoch: 23, weights: [ 0.35613024  0.32653448 -0.0643615   0.27655995], error 26.280441255557093\n",
      "Epoch: 24, weights: [ 0.3503861   0.32065517 -0.0686297   0.275191  ], error 25.33528895719901\n",
      "Epoch: 25, weights: [ 0.34478938  0.31495735 -0.07239468  0.27386137], error 24.4793367255359\n",
      "Epoch: 26, weights: [ 0.33933129  0.30942897 -0.07569977  0.27256855], error 23.69962976524958\n",
      "Epoch: 27, weights: [ 0.33400377  0.30405896 -0.07858467  0.27131025], error 22.985250857432607\n",
      "Epoch: 28, weights: [ 0.32879938  0.29883716 -0.08108578  0.27008437], error 22.32699638810489\n",
      "Epoch: 29, weights: [ 0.32371127  0.29375418 -0.08323644  0.26888896], error 21.71710395991071\n",
      "Epoch: 30, weights: [ 0.31873312  0.28880143 -0.08506723  0.26772223], error 21.149023372375467\n",
      "Epoch: 31, weights: [ 0.31385909  0.28397096 -0.08660616  0.26658254], error 20.61722406430988\n",
      "Epoch: 32, weights: [ 0.30908381  0.27925547 -0.08787889  0.26546836], error 20.117033211820104\n",
      "Epoch: 33, weights: [ 0.30440231  0.27464824 -0.08890896  0.26437829], error 19.64449960009401\n",
      "Epoch: 34, weights: [ 0.29981     0.27014308 -0.08971792  0.26331105], error 19.19627916458167\n",
      "Epoch: 35, weights: [ 0.29530266  0.26573428 -0.09032552  0.26226544], error 18.769538750823966\n",
      "Epoch: 36, weights: [ 0.29087634  0.26141657 -0.09074985  0.26124036], error 18.361875191725126\n",
      "Epoch: 37, weights: [ 0.28652745  0.2571851  -0.09100749  0.2602348 ], error 17.971247263089758\n",
      "Epoch: 38, weights: [ 0.28225261  0.2530354  -0.09111363  0.25924782], error 17.595918466691174\n",
      "Epoch: 39, weights: [ 0.27804871  0.24896332 -0.09108218  0.25827855], error 17.23440891672125\n",
      "Epoch: 40, weights: [ 0.27391289  0.24496506 -0.09092588  0.25732619], error 16.885454880046964\n",
      "Epoch: 41, weights: [ 0.26984245  0.24103708 -0.09065639  0.25639   ], error 16.54797475154587\n",
      "Epoch: 42, weights: [ 0.26583493  0.23717612 -0.09028442  0.25546929], error 16.22104043987666\n",
      "Epoch: 43, weights: [ 0.26188801  0.23337917 -0.08981974  0.25456342], error 15.903853302216461\n",
      "Epoch: 44, weights: [ 0.25799955  0.22964343 -0.08927131  0.25367181], error 15.595723903685398\n",
      "Epoch: 45, weights: [ 0.25416756  0.22596633 -0.08864734  0.2527939 ], error 15.296054992520421\n",
      "Epoch: 46, weights: [ 0.25039017  0.22234545 -0.08795534  0.25192918], error 15.004327179032869\n",
      "Epoch: 47, weights: [ 0.24666565  0.21877858 -0.08720217  0.25107719], error 14.720086887913794\n",
      "Epoch: 48, weights: [ 0.24299239  0.21526366 -0.08639412  0.25023748], error 14.442936221996668\n",
      "Epoch: 49, weights: [ 0.23936887  0.21179877 -0.08553696  0.24940964], error 14.172524433216608\n",
      "Epoch: 50, weights: [ 0.23579367  0.20838212 -0.08463594  0.24859329], error 13.908540744957092\n",
      "Epoch: 51, weights: [ 0.23226547  0.20501206 -0.08369587  0.24778807], error 13.650708310710785\n",
      "Epoch: 52, weights: [ 0.22878303  0.20168704 -0.08272116  0.24699365], error 13.398779128229709\n",
      "Epoch: 53, weights: [ 0.22534517  0.19840562 -0.08171584  0.24620972], error 13.152529757134095\n",
      "Epoch: 54, weights: [ 0.22195081  0.19516647 -0.08068358  0.24543599], error 12.911757712158156\n",
      "Epoch: 55, weights: [ 0.21859891  0.19196831 -0.07962774  0.24467217], error 12.676278424564451\n",
      "Epoch: 56, weights: [ 0.21528849  0.18880998 -0.07855139  0.24391803], error 12.44592268137054\n",
      "Epoch: 57, weights: [ 0.21201864  0.18569038 -0.07745734  0.2431733 ], error 12.220534466418789\n",
      "Epoch: 58, weights: [ 0.20878849  0.18260848 -0.07634815  0.24243778], error 11.999969139416015\n",
      "Epoch: 59, weights: [ 0.20559722  0.1795633  -0.07522615  0.24171124], error 11.784091899239172\n",
      "Epoch: 60, weights: [ 0.20244405  0.17655394 -0.07409347  0.24099348], error 11.572776486353542\n",
      "Epoch: 61, weights: [ 0.19932823  0.17357954 -0.07295207  0.24028431], error 11.365904086378276\n",
      "Epoch: 62, weights: [ 0.19624907  0.1706393  -0.07180369  0.23958355], error 11.163362402877993\n",
      "Epoch: 63, weights: [ 0.1932059   0.16773245 -0.07064997  0.23889104], error 10.965044872540375\n",
      "Epoch: 64, weights: [ 0.19019807  0.16485828 -0.06949236  0.23820661], error 10.770850000171912\n",
      "Epoch: 65, weights: [ 0.18722498  0.16201611 -0.06833221  0.2375301 ], error 10.580680794535718\n",
      "Epoch: 66, weights: [ 0.18428605  0.15920528 -0.06717073  0.23686137], error 10.394444289075278\n",
      "Epoch: 67, weights: [ 0.18138072  0.15642519 -0.06600902  0.23620027], error 10.212051134106858\n",
      "Epoch: 68, weights: [ 0.17850846  0.15367525 -0.06484808  0.23554669], error 10.033415249198107\n",
      "Epoch: 69, weights: [ 0.17566874  0.15095492 -0.06368882  0.23490049], error 9.858453526245064\n",
      "Epoch: 70, weights: [ 0.17286108  0.14826366 -0.06253206  0.23426154], error 9.68708557526879\n",
      "Epoch: 71, weights: [ 0.170085    0.14560098 -0.06137855  0.23362974], error 9.519233506221584\n",
      "Epoch: 72, weights: [ 0.16734005  0.14296638 -0.06022896  0.23300496], error 9.354821741159384\n",
      "Epoch: 73, weights: [ 0.16462578  0.14035942 -0.0590839   0.23238711], error 9.193776852033878\n",
      "Epoch: 74, weights: [ 0.16194176  0.13777964 -0.05794391  0.23177607], error 9.036027420111909\n",
      "Epoch: 75, weights: [ 0.15928758  0.13522663 -0.05680949  0.23117175], error 8.881503913663753\n",
      "Epoch: 76, weights: [ 0.15666284  0.13269997 -0.05568108  0.23057406], error 8.730138581094945\n",
      "Epoch: 77, weights: [ 0.15406714  0.13019928 -0.05455907  0.2299829 ], error 8.581865357144622\n",
      "Epoch: 78, weights: [ 0.15150012  0.12772418 -0.05344383  0.22939817], error 8.436619780150103\n",
      "Epoch: 79, weights: [ 0.1489614   0.1252743  -0.05233566  0.2288198 ], error 8.29433891869444\n",
      "Epoch: 80, weights: [ 0.14645062  0.12284928 -0.05123484  0.22824769], error 8.154961306220073\n",
      "Epoch: 81, weights: [ 0.14396745  0.12044879 -0.05014162  0.22768178], error 8.01842688241581\n",
      "Epoch: 82, weights: [ 0.14151153  0.11807251 -0.04905623  0.22712196], error 7.8846769403727\n",
      "Epoch: 83, weights: [ 0.13908254  0.11572009 -0.04797885  0.22656818], error 7.7536540786629455\n",
      "Epoch: 84, weights: [ 0.13668015  0.11339125 -0.04690965  0.22602035], error 7.625302157629031\n",
      "Epoch: 85, weights: [ 0.13430404  0.11108566 -0.04584878  0.2254784 ], error 7.499566259282484\n",
      "Epoch: 86, weights: [ 0.13195391  0.10880304 -0.04479635  0.22494226], error 7.3763926503057995\n",
      "Epoch: 87, weights: [ 0.12962946  0.10654311 -0.04375248  0.22441186], error 7.255728747730367\n",
      "Epoch: 88, weights: [ 0.12733038  0.10430558 -0.04271726  0.22388713], error 7.1375230869298605\n",
      "Epoch: 89, weights: [ 0.12505639  0.10209017 -0.04169075  0.22336799], error 7.02172529162468\n",
      "Epoch: 90, weights: [ 0.12280719  0.09989663 -0.04067301  0.2228544 ], error 6.908286045640156\n",
      "Epoch: 91, weights: [ 0.12058251  0.0977247  -0.0396641   0.22234628], error 6.797157066200925\n",
      "Epoch: 92, weights: [ 0.11838208  0.09557411 -0.03866404  0.22184357], error 6.6882910785773095\n",
      "Epoch: 93, weights: [ 0.11620562  0.09344461 -0.03767286  0.22134621], error 6.5816417919275665\n",
      "Epoch: 94, weights: [ 0.11405287  0.09133598 -0.03669058  0.22085413], error 6.477163876203619\n",
      "Epoch: 95, weights: [ 0.11192356  0.08924796 -0.03571719  0.22036728], error 6.374812940007663\n",
      "Epoch: 96, weights: [ 0.10981744  0.08718032 -0.03475269  0.21988561], error 6.274545509303941\n",
      "Epoch: 97, weights: [ 0.10773425  0.08513282 -0.03379708  0.21940904], error 6.176319006903995\n",
      "Epoch: 98, weights: [ 0.10567375  0.08310526 -0.03285034  0.21893753], error 6.080091732655616\n",
      "Epoch: 99, weights: [ 0.10363569  0.08109739 -0.03191244  0.21847102], error 5.985822844275779\n"
     ]
    },
    {
     "data": {
      "text/plain": [
       "<matplotlib.collections.PathCollection at 0x1c9e9e0f400>"
      ]
     },
     "execution_count": 5,
     "metadata": {},
     "output_type": "execute_result"
    },
    {
     "data": {
      "image/png": "[encoded data removed]",
      "text/plain": [
       "<Figure size 432x288 with 1 Axes>"
      ]
     },
     "metadata": {
      "needs_background": "light"
     },
     "output_type": "display_data"
    }
   ],
   "source": [
    "X = np.array([\n",
    "    [2., 4.,  20.],  # 2*2 - 4*4 + 20 =   8 > 0\n",
    "    [4., 3., -10.],  # 2*4 - 4*3 - 10 = -14 < 0\n",
    "    [5., 6.,  13.],  # 2*5 - 4*6 + 13 =  -1 < 0\n",
    "    [5., 4.,   8.],  # 2*5 - 4*4 + 8 =    2 > 0\n",
    "    [3., 4.,   5.],  # 2*3 - 4*4 + 5 =   -5 < 0 \n",
    "])\n",
    " \n",
    "y = np.array([1, -1, -1, 1, -1])\n",
    " \n",
    "perceptron = Perceptron(eta=0.0001, epochs=100, is_verbose=True)            \n",
    "perceptron.fit(X, y)\n",
    "plt.scatter(range(perceptron.epochs), perceptron.list_of_errors)"
   ]
  },
  {
   "cell_type": "code",
   "execution_count": 7,
   "id": "f047c1cf",
   "metadata": {},
   "outputs": [
    {
     "data": {
      "text/plain": [
       "<matplotlib.collections.PathCollection at 0x1c9ea01e490>"
      ]
     },
     "execution_count": 7,
     "metadata": {},
     "output_type": "execute_result"
    },
    {
     "data": {
      "image/png": "[encoded data removed]",
      "text/plain": [
       "<Figure size 432x288 with 1 Axes>"
      ]
     },
     "metadata": {
      "needs_background": "light"
     },
     "output_type": "display_data"
    }
   ],
   "source": [
    "df = pd.read_csv(r\"C:\\PythonScripts\\course-files2\\iris.csv\", header = None)\n",
    "df = df.iloc[:100, :].copy()\n",
    "df[4] = df[4].apply(lambda x: 1 if x == 'Iris-setosa' else -1)\n",
    "df\n",
    " \n",
    "X = df.iloc[0:100, :-1].values\n",
    "y = df[4].values\n",
    "\n",
    "X_train, X_test, y_train, y_test = train_test_split(X, y, test_size=0.2) \n",
    "\n",
    "p = Perceptron(eta = 0.0001, epochs=100) \n",
    "p.fit(X_train, y_train)   \n",
    "             \n",
    "y_pred = p.predict(X_test)\n",
    " \n",
    "plt.scatter(range(p.epochs), p.list_of_errors)"
   ]
  },
  {
   "cell_type": "code",
   "execution_count": null,
   "id": "e41e2a50",
   "metadata": {},
   "outputs": [],
   "source": []
  }
 ],
 "metadata": {
  "kernelspec": {
   "display_name": "Python 3 (ipykernel)",
   "language": "python",
   "name": "python3"
  },
  "language_info": {
   "codemirror_mode": {
    "name": "ipython",
    "version": 3
   },
   "file_extension": ".py",
   "mimetype": "text/x-python",
   "name": "python",
   "nbconvert_exporter": "python",
   "pygments_lexer": "ipython3",
   "version": "3.9.7"
  }
 },
 "nbformat": 4,
 "nbformat_minor": 5
}
