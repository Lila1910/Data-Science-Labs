{
 "cells": [
  {
   "cell_type": "code",
   "execution_count": 3,
   "id": "8a7d9faa",
   "metadata": {},
   "outputs": [],
   "source": [
    "import numpy as np"
   ]
  },
  {
   "cell_type": "code",
   "execution_count": 4,
   "id": "5d079591",
   "metadata": {},
   "outputs": [
    {
     "data": {
      "text/plain": [
       "array([[-25, -24, -23, -22, -21],\n",
       "       [-20, -19, -18, -17, -16],\n",
       "       [-15, -14, -13, -12, -11],\n",
       "       [-10,  -9,  -8,  -7,  -6],\n",
       "       [ -5,  -4,  -3,  -2,  -1],\n",
       "       [  0,   1,   2,   3,   4],\n",
       "       [  5,   6,   7,   8,   9],\n",
       "       [ 10,  11,  12,  13,  14],\n",
       "       [ 15,  16,  17,  18,  19],\n",
       "       [ 20,  21,  22,  23,  24]])"
      ]
     },
     "execution_count": 4,
     "metadata": {},
     "output_type": "execute_result"
    }
   ],
   "source": [
    "X=np.arange(-25,25).reshape(10,5)\n",
    "X"
   ]
  },
  {
   "cell_type": "code",
   "execution_count": 13,
   "id": "fc9c83a6",
   "metadata": {},
   "outputs": [
    {
     "data": {
      "text/plain": [
       "array([[1.],\n",
       "       [1.],\n",
       "       [1.],\n",
       "       [1.],\n",
       "       [1.],\n",
       "       [1.],\n",
       "       [1.],\n",
       "       [1.],\n",
       "       [1.],\n",
       "       [1.]])"
      ]
     },
     "execution_count": 13,
     "metadata": {},
     "output_type": "execute_result"
    }
   ],
   "source": [
    "ones=np.ones((np.shape(X)[0],1))\n",
    "ones"
   ]
  },
  {
   "cell_type": "code",
   "execution_count": 14,
   "id": "bf30848b",
   "metadata": {},
   "outputs": [
    {
     "data": {
      "text/plain": [
       "array([[-25., -24., -23., -22., -21.,   1.],\n",
       "       [-20., -19., -18., -17., -16.,   1.],\n",
       "       [-15., -14., -13., -12., -11.,   1.],\n",
       "       [-10.,  -9.,  -8.,  -7.,  -6.,   1.],\n",
       "       [ -5.,  -4.,  -3.,  -2.,  -1.,   1.],\n",
       "       [  0.,   1.,   2.,   3.,   4.,   1.],\n",
       "       [  5.,   6.,   7.,   8.,   9.,   1.],\n",
       "       [ 10.,  11.,  12.,  13.,  14.,   1.],\n",
       "       [ 15.,  16.,  17.,  18.,  19.,   1.],\n",
       "       [ 20.,  21.,  22.,  23.,  24.,   1.]])"
      ]
     },
     "execution_count": 14,
     "metadata": {},
     "output_type": "execute_result"
    }
   ],
   "source": [
    "X_1=np.append(X,ones,axis=1)\n",
    "X_1"
   ]
  },
  {
   "cell_type": "code",
   "execution_count": 22,
   "id": "cc9acb43",
   "metadata": {},
   "outputs": [
    {
     "data": {
      "text/plain": [
       "array([0.80675839, 0.96683186, 0.20660704, 0.49673203, 0.30100063,\n",
       "       0.30294778])"
      ]
     },
     "execution_count": 22,
     "metadata": {},
     "output_type": "execute_result"
    }
   ],
   "source": [
    "w=np.random.rand(np.shape(X_1)[1])\n",
    "w"
   ]
  },
  {
   "cell_type": "code",
   "execution_count": 19,
   "id": "aa00df52",
   "metadata": {},
   "outputs": [],
   "source": [
    "def predict(x,w):\n",
    "    total_stimulation=np.dot(x,w)\n",
    "    if total_stimulation>=0:\n",
    "        return 1\n",
    "    else:\n",
    "        return -1"
   ]
  },
  {
   "cell_type": "code",
   "execution_count": 23,
   "id": "242da1a2",
   "metadata": {},
   "outputs": [
    {
     "name": "stdout",
     "output_type": "stream",
     "text": [
      "-1\n"
     ]
    }
   ],
   "source": [
    "print(predict(X_1[0,],w))"
   ]
  },
  {
   "cell_type": "code",
   "execution_count": 25,
   "id": "ae0135c2",
   "metadata": {},
   "outputs": [
    {
     "name": "stdout",
     "output_type": "stream",
     "text": [
      "-1\n",
      "-1\n",
      "-1\n",
      "-1\n",
      "-1\n",
      "1\n",
      "1\n",
      "1\n",
      "1\n",
      "1\n"
     ]
    }
   ],
   "source": [
    "for x in X_1:\n",
    "    print(predict(x,w))"
   ]
  },
  {
   "cell_type": "code",
   "execution_count": null,
   "id": "588552bf",
   "metadata": {},
   "outputs": [],
   "source": []
  }
 ],
 "metadata": {
  "kernelspec": {
   "display_name": "Python 3 (ipykernel)",
   "language": "python",
   "name": "python3"
  },
  "language_info": {
   "codemirror_mode": {
    "name": "ipython",
    "version": 3
   },
   "file_extension": ".py",
   "mimetype": "text/x-python",
   "name": "python",
   "nbconvert_exporter": "python",
   "pygments_lexer": "ipython3",
   "version": "3.9.7"
  }
 },
 "nbformat": 4,
 "nbformat_minor": 5
}
