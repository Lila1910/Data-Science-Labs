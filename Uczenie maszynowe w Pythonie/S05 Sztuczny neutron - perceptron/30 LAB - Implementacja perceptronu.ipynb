{
 "cells": [
  {
   "cell_type": "code",
   "execution_count": 7,
   "id": "78b4f33f",
   "metadata": {},
   "outputs": [],
   "source": [
    "import numpy as np\n",
    "import matplotlib.pyplot as plt\n",
    " \n",
    "class Perceptron:\n",
    "    \n",
    "    def __init__(self, eta=0.10, epochs=50, is_verbose=False):\n",
    "        \n",
    "        self.eta = eta\n",
    "        self.epochs = epochs\n",
    "        self.is_verbose=is_verbose\n",
    "        self.list_of_errors=[]\n",
    "        \n",
    "    def predict(self, x):\n",
    "        \n",
    "        total_stimulation = np.dot(x, self.w)       \n",
    "        y_pred = 1 if total_stimulation > 0 else -1\n",
    "        return y_pred\n",
    "        \n",
    "    \n",
    "    def fit(self, X, y):\n",
    "        self.list_of_errors=[]\n",
    "        ones = np.ones((X.shape[0], 1))\n",
    "        X_1 = np.append(X.copy(), ones, axis=1)\n",
    " \n",
    "        self.w = np.random.rand(X_1.shape[1])\n",
    "        \n",
    "        for e in range(self.epochs):\n",
    "            number_of_errors=0\n",
    " \n",
    "            for x, y_target in zip(X_1,y):\n",
    "            \n",
    "                y_pred = self.predict(x)\n",
    "                delta_w = self.eta * (y_target - y_pred) * x\n",
    "                self.w += delta_w\n",
    "                \n",
    "                number_of_errors+=1 if y_target != y_pred else 0\n",
    "                \n",
    "            self.list_of_errors.append(number_of_errors)\n",
    "                \n",
    "            if(self.is_verbose):\n",
    "                print('Epoch: {}, weights: {}, number of errors: {}'.format(\n",
    "                e, self.w, number_of_errors))"
   ]
  },
  {
   "cell_type": "code",
   "execution_count": 11,
   "id": "12e1ddaf",
   "metadata": {},
   "outputs": [
    {
     "name": "stdout",
     "output_type": "stream",
     "text": [
      "Epoch: 0, weights: [-11.65187398 -11.75146804   9.46501971  -2.97907764], number of errors: 2\n",
      "Epoch: 1, weights: [-8.05187398 -8.15146804 23.86501971 -2.97907764], number of errors: 2\n",
      "Epoch: 2, weights: [-13.45187398 -15.35146804  14.86501971  -4.77907764], number of errors: 1\n",
      "Epoch: 3, weights: [ -9.85187398 -15.35146804  20.26501971  -4.77907764], number of errors: 2\n",
      "Epoch: 4, weights: [-15.25187398 -22.55146804  11.26501971  -6.57907764], number of errors: 1\n",
      "Epoch: 5, weights: [-11.65187398 -18.95146804  25.66501971  -6.57907764], number of errors: 2\n",
      "Epoch: 6, weights: [-17.05187398 -26.15146804  16.66501971  -8.37907764], number of errors: 1\n",
      "Epoch: 7, weights: [-13.45187398 -22.55146804  31.06501971  -8.37907764], number of errors: 2\n",
      "Epoch: 8, weights: [-18.85187398 -29.75146804  22.06501971 -10.17907764], number of errors: 1\n",
      "Epoch: 9, weights: [-15.25187398 -29.75146804  27.46501971 -10.17907764], number of errors: 2\n",
      "Epoch: 10, weights: [-15.25187398 -29.75146804  27.46501971 -10.17907764], number of errors: 0\n",
      "Epoch: 11, weights: [-15.25187398 -29.75146804  27.46501971 -10.17907764], number of errors: 0\n",
      "Epoch: 12, weights: [-15.25187398 -29.75146804  27.46501971 -10.17907764], number of errors: 0\n",
      "Epoch: 13, weights: [-15.25187398 -29.75146804  27.46501971 -10.17907764], number of errors: 0\n",
      "Epoch: 14, weights: [-15.25187398 -29.75146804  27.46501971 -10.17907764], number of errors: 0\n",
      "Epoch: 15, weights: [-15.25187398 -29.75146804  27.46501971 -10.17907764], number of errors: 0\n",
      "Epoch: 16, weights: [-15.25187398 -29.75146804  27.46501971 -10.17907764], number of errors: 0\n",
      "Epoch: 17, weights: [-15.25187398 -29.75146804  27.46501971 -10.17907764], number of errors: 0\n",
      "Epoch: 18, weights: [-15.25187398 -29.75146804  27.46501971 -10.17907764], number of errors: 0\n",
      "Epoch: 19, weights: [-15.25187398 -29.75146804  27.46501971 -10.17907764], number of errors: 0\n",
      "[-15.25187398 -29.75146804  27.46501971 -10.17907764]\n"
     ]
    }
   ],
   "source": [
    "X = np.array([\n",
    "    [2,4,20],\n",
    "    [4,3,-10],\n",
    "    [5,6,13],\n",
    "    [5,4,8],\n",
    "    [3,4,5],\n",
    "])\n",
    "y=np.array([1,-1,1,1,-1])\n",
    "perceptron = Perceptron(eta=0.9,epochs=20, is_verbose=True)\n",
    "perceptron.fit(X,y)\n",
    "print(perceptron.w)"
   ]
  },
  {
   "cell_type": "code",
   "execution_count": null,
   "id": "bb08f467",
   "metadata": {},
   "outputs": [],
   "source": []
  }
 ],
 "metadata": {
  "kernelspec": {
   "display_name": "Python 3 (ipykernel)",
   "language": "python",
   "name": "python3"
  },
  "language_info": {
   "codemirror_mode": {
    "name": "ipython",
    "version": 3
   },
   "file_extension": ".py",
   "mimetype": "text/x-python",
   "name": "python",
   "nbconvert_exporter": "python",
   "pygments_lexer": "ipython3",
   "version": "3.9.7"
  }
 },
 "nbformat": 4,
 "nbformat_minor": 5
}
