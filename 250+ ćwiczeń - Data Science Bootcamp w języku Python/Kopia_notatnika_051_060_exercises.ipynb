{
  "nbformat": 4,
  "nbformat_minor": 0,
  "metadata": {
    "colab": {
      "provenance": []
    },
    "kernelspec": {
      "name": "python3",
      "display_name": "Python 3"
    }
  },
  "cells": [
    {
      "cell_type": "markdown",
      "metadata": {
        "id": "WLEgCW5F1hho"
      },
      "source": [
        "## Numpy\n",
        "\n",
        "### Spis treści:\n",
        "* [Import biblioteki](#0)\n",
        "* [Ćwiczenie 51](#1)\n",
        "* [Ćwiczenie 52](#2)\n",
        "* [Ćwiczenie 53](#3)\n",
        "* [Ćwiczenie 54](#4)\n",
        "* [Ćwiczenie 55](#5)\n",
        "* [Ćwiczenie 56](#6)\n",
        "* [Ćwiczenie 57](#7)\n",
        "* [Ćwiczenie 58](#8)\n",
        "* [Ćwiczenie 59](#9)\n",
        "* [Ćwiczenie 60](#10)"
      ]
    },
    {
      "cell_type": "markdown",
      "metadata": {
        "id": "zeLOLmTj1kBM"
      },
      "source": [
        "### <a name='0'></a>Import biblioteki"
      ]
    },
    {
      "cell_type": "code",
      "metadata": {
        "id": "HXMB7SMe1Wnz",
        "colab": {
          "base_uri": "https://localhost:8080/",
          "height": 35
        },
        "outputId": "6f591973-b9c5-46ca-e070-7f88e58c3892"
      },
      "source": [
        "import numpy as np\n",
        "\n",
        "np.random.seed(42)\n",
        "np.__version__"
      ],
      "execution_count": null,
      "outputs": [
        {
          "output_type": "execute_result",
          "data": {
            "text/plain": [
              "'1.21.6'"
            ],
            "application/vnd.google.colaboratory.intrinsic+json": {
              "type": "string"
            }
          },
          "metadata": {},
          "execution_count": 1
        }
      ]
    },
    {
      "cell_type": "markdown",
      "metadata": {
        "id": "cyc70pMe1oCg"
      },
      "source": [
        "### <a name='1'></a> Ćwiczenie 51\n",
        "Podane są poniżej dwie tablice $A$ i $B$:\n",
        "\n",
        "\n",
        "```\n",
        "A = np.array([[3, 4, 5],\n",
        "              [8, 3, 1]])\n",
        "B = np.array([[0, 5, 2],\n",
        "              [4, 2, 1]])\n",
        "```\n",
        "* Połącz te tablice w następujący sposób:\n",
        "\n",
        "\n",
        "```\n",
        "array([[3, 4, 5],\n",
        "       [8, 3, 1],\n",
        "       [0, 5, 2],\n",
        "       [4, 2, 1]])\n",
        "```\n",
        "__Wskazówka:__ Wykorzystaj funkcję _np.concatenate()_.\n",
        "\n",
        "\n",
        "\n"
      ]
    },
    {
      "cell_type": "code",
      "metadata": {
        "id": "G06kZluT8eIh",
        "colab": {
          "base_uri": "https://localhost:8080/"
        },
        "outputId": "02a71602-dcbc-40db-b2b2-f550937e5fe7"
      },
      "source": [
        "A = np.array([[3, 4, 5],\n",
        "              [8, 3, 1]])\n",
        "B = np.array([[0, 5, 2],\n",
        "              [4, 2, 1]])\n",
        "np.concatenate((A,B))"
      ],
      "execution_count": null,
      "outputs": [
        {
          "output_type": "execute_result",
          "data": {
            "text/plain": [
              "array([[3, 4, 5],\n",
              "       [8, 3, 1],\n",
              "       [0, 5, 2],\n",
              "       [4, 2, 1]])"
            ]
          },
          "metadata": {},
          "execution_count": 5
        }
      ]
    },
    {
      "cell_type": "markdown",
      "metadata": {
        "id": "ODw_gitA98Ul"
      },
      "source": [
        "* Połącz te tablice w następujący sposób:\n",
        "\n",
        "\n",
        "```\n",
        "array([[3, 4, 5, 0, 5, 2],\n",
        "       [8, 3, 1, 4, 2, 1]])\n",
        "```\n",
        "__Wskazówka:__ Wykorzystaj funkcję _np.concatenate()_."
      ]
    },
    {
      "cell_type": "code",
      "metadata": {
        "id": "1pmGjLj88tcf",
        "colab": {
          "base_uri": "https://localhost:8080/"
        },
        "outputId": "9d8dcfcb-6867-495a-df08-3394c2b3cc12"
      },
      "source": [
        "np.concatenate((A,B), axis=1)"
      ],
      "execution_count": null,
      "outputs": [
        {
          "output_type": "execute_result",
          "data": {
            "text/plain": [
              "array([[3, 4, 5, 0, 5, 2],\n",
              "       [8, 3, 1, 4, 2, 1]])"
            ]
          },
          "metadata": {},
          "execution_count": 4
        }
      ]
    },
    {
      "cell_type": "markdown",
      "metadata": {
        "id": "J9pY1rtr1sC0"
      },
      "source": [
        "### <a name='2'></a> Ćwiczenie 52\n",
        "Podana jest tablica zawierająca dane _data_ oraz tablica zawierająca docelową klasę dla danego wiersza _target_:\n",
        "\n",
        "```\n",
        "data = np.array([[4.3, 4.2],\n",
        "                 [3.1, 3.6]])\n",
        "target = np.array([[0],\n",
        "                   [1]])\n",
        "```\n",
        "\n"
      ]
    },
    {
      "cell_type": "markdown",
      "metadata": {
        "id": "8cAKF7ok-RjX"
      },
      "source": [
        "Połącz te tablice w jedną tak jak pokazano poniżej:\n",
        "\n",
        "\n",
        "```\n",
        "array([[4.3, 4.2, 0. ],\n",
        "       [3.1, 3.6, 1. ]])\n",
        "```\n",
        "\n"
      ]
    },
    {
      "cell_type": "code",
      "metadata": {
        "id": "4lc68Wfr8z3u",
        "colab": {
          "base_uri": "https://localhost:8080/"
        },
        "outputId": "0ac32f42-2b40-4f8d-c0b6-5c4fe69973db"
      },
      "source": [
        "data = np.array([[4.3, 4.2],\n",
        "                 [3.1, 3.6]])\n",
        "target = np.array([[0],\n",
        "                   [1]])\n",
        "np.concatenate((data, target), axis=1)"
      ],
      "execution_count": null,
      "outputs": [
        {
          "output_type": "execute_result",
          "data": {
            "text/plain": [
              "array([[4.3, 4.2, 0. ],\n",
              "       [3.1, 3.6, 1. ]])"
            ]
          },
          "metadata": {},
          "execution_count": 7
        }
      ]
    },
    {
      "cell_type": "markdown",
      "metadata": {
        "id": "XQLYT2m11wVG"
      },
      "source": [
        "### <a name='3'></a> Ćwiczenie 53\n",
        "Podane są trzy poniższe jednowymiarowe tablice:  \n",
        "\n",
        "\n",
        "```\n",
        "feature1 = np.array([1.6, 0.9, 2.2])\n",
        "feature2 = np.array([0.4, 1.3, 3.2])\n",
        "feature3 = np.array([1.4, 0.3, 1.2])\n",
        "```\n",
        "Przekształć każdą z tych tablic w kolumnę i sklej w jedną dużą tablicę.\n",
        "\n",
        "__Oczekiwany wynik:__\n",
        "\n",
        "\n",
        "```\n",
        "array([[1.6, 0.4, 1.4],\n",
        "       [0.9, 1.3, 0.3],\n",
        "       [2.2, 3.2, 1.2]])\n",
        "```\n",
        "\n",
        "__Wskazówka:__ Wykorzystaj funkcję _np.column_stack()_.\n",
        "\n"
      ]
    },
    {
      "cell_type": "code",
      "metadata": {
        "id": "xfPf_vq7-jBP",
        "colab": {
          "base_uri": "https://localhost:8080/"
        },
        "outputId": "3b0eccef-34e7-4afb-edf6-d472bdac462f"
      },
      "source": [
        "feature1 = np.array([1.6, 0.9, 2.2])\n",
        "feature2 = np.array([0.4, 1.3, 3.2])\n",
        "feature3 = np.array([1.4, 0.3, 1.2])\n",
        "np.column_stack((feature1,feature2,feature3))\n"
      ],
      "execution_count": null,
      "outputs": [
        {
          "output_type": "execute_result",
          "data": {
            "text/plain": [
              "array([[1.6, 0.4, 1.4],\n",
              "       [0.9, 1.3, 0.3],\n",
              "       [2.2, 3.2, 1.2]])"
            ]
          },
          "metadata": {},
          "execution_count": 9
        }
      ]
    },
    {
      "cell_type": "markdown",
      "metadata": {
        "id": "4xTKSUzg10MK"
      },
      "source": [
        "### <a name='4'></a> Ćwiczenie 54\n",
        "Podana jest poniższa dwuwymiarowa tablica:\n",
        "\n",
        "```\n",
        "A = np.random.randint(low=0, high=7, size=(5, 8))\n",
        "A[:, :2] = 0\n",
        "A[:, -2:] = 1\n",
        "A\n",
        "```\n",
        "```\n",
        "array([[0, 0, 4, 6, 2, 4, 1, 1],\n",
        "       [0, 0, 6, 2, 2, 4, 1, 1],\n",
        "       [0, 0, 1, 3, 5, 5, 1, 1],\n",
        "       [0, 0, 3, 1, 5, 4, 1, 1],\n",
        "       [0, 0, 2, 6, 1, 3, 1, 1]])\n",
        "```\n",
        "\n",
        "Podziel tablicę na 3 części tak aby pierwsze dwie kolumny stanowiły pierwszą tablicę $A1$, cztery kolejne drugą tablicę $A2$ oraz dwie ostatnie trzecią tablicę $A3$.\n",
        "\n",
        "__Wskazówka:__ Wykorzystaj funkcję _np.split()_."
      ]
    },
    {
      "cell_type": "code",
      "metadata": {
        "id": "U5MFrLUHBsEf",
        "colab": {
          "base_uri": "https://localhost:8080/"
        },
        "outputId": "3cb9c359-998e-4748-dd91-aa805df81aeb"
      },
      "source": [
        "A = np.random.randint(low=0, high=7, size=(5, 8))\n",
        "A[:, :2] = 0\n",
        "A[:, -2:] = 1\n",
        "A"
      ],
      "execution_count": null,
      "outputs": [
        {
          "output_type": "execute_result",
          "data": {
            "text/plain": [
              "array([[0, 0, 6, 5, 2, 3, 1, 1],\n",
              "       [0, 0, 4, 2, 6, 4, 1, 1],\n",
              "       [0, 0, 0, 3, 5, 1, 1, 1],\n",
              "       [0, 0, 1, 3, 3, 6, 1, 1],\n",
              "       [0, 0, 6, 2, 5, 0, 1, 1]])"
            ]
          },
          "metadata": {},
          "execution_count": 11
        }
      ]
    },
    {
      "cell_type": "code",
      "source": [
        "A1, A2, A3 = np.split(A, (2,6), axis=1)\n",
        "\n",
        "for name, array in zip(list('123'), [A1, A2, A3]):\n",
        "  print(f'{name}: {array}')\n",
        "  print()"
      ],
      "metadata": {
        "colab": {
          "base_uri": "https://localhost:8080/"
        },
        "id": "zcara9PNZ2UJ",
        "outputId": "9abd7809-d196-43df-ff4c-e6f97e54e2dc"
      },
      "execution_count": null,
      "outputs": [
        {
          "output_type": "stream",
          "name": "stdout",
          "text": [
            "1: [[0 0]\n",
            " [0 0]\n",
            " [0 0]\n",
            " [0 0]\n",
            " [0 0]]\n",
            "\n",
            "2: [[6 5 2 3]\n",
            " [4 2 6 4]\n",
            " [0 3 5 1]\n",
            " [1 3 3 6]\n",
            " [6 2 5 0]]\n",
            "\n",
            "3: [[1 1]\n",
            " [1 1]\n",
            " [1 1]\n",
            " [1 1]\n",
            " [1 1]]\n",
            "\n"
          ]
        }
      ]
    },
    {
      "cell_type": "markdown",
      "metadata": {
        "id": "o3HKIKlP15Ro"
      },
      "source": [
        "### <a name='5'></a> Ćwiczenie 55\n",
        "Podana jest poniższa tablica $A$:\n",
        "\n",
        "```\n",
        "A = np.random.randint(low=0, high=2, size=(10, 6))\n",
        "```\n",
        "Wyznacz łączną liczbę elementów niezerowych dla tej tablicy.\n",
        "\n",
        "__Wskazówka:__ Wykorzystaj funkcję _np.count_nonzero()_.\n"
      ]
    },
    {
      "cell_type": "code",
      "source": [
        "A"
      ],
      "metadata": {
        "colab": {
          "base_uri": "https://localhost:8080/"
        },
        "id": "cvhP1-VfbSHT",
        "outputId": "326244cd-5920-43ec-a7e4-adccf580165c"
      },
      "execution_count": null,
      "outputs": [
        {
          "output_type": "execute_result",
          "data": {
            "text/plain": [
              "array([[1, 1, 1, 1, 0, 1],\n",
              "       [0, 1, 0, 1, 1, 1],\n",
              "       [1, 0, 1, 0, 0, 0],\n",
              "       [0, 1, 0, 0, 0, 1],\n",
              "       [1, 1, 1, 0, 0, 1],\n",
              "       [0, 0, 0, 1, 1, 0],\n",
              "       [1, 1, 1, 1, 1, 0],\n",
              "       [1, 0, 0, 1, 0, 0],\n",
              "       [0, 1, 1, 0, 1, 1],\n",
              "       [1, 1, 0, 0, 1, 1]])"
            ]
          },
          "metadata": {},
          "execution_count": 28
        }
      ]
    },
    {
      "cell_type": "code",
      "source": [
        "\n",
        "np.count_nonzero(A)"
      ],
      "metadata": {
        "colab": {
          "base_uri": "https://localhost:8080/"
        },
        "id": "0ExR3iM8Z1V3",
        "outputId": "8fa147e7-d01d-477b-9f81-dde68ccbed4d"
      },
      "execution_count": null,
      "outputs": [
        {
          "output_type": "execute_result",
          "data": {
            "text/plain": [
              "34"
            ]
          },
          "metadata": {},
          "execution_count": 29
        }
      ]
    },
    {
      "cell_type": "code",
      "metadata": {
        "id": "j5E2nOFyDy1b",
        "colab": {
          "base_uri": "https://localhost:8080/"
        },
        "outputId": "24b783ff-d830-406b-c7c0-9fe2384c899f"
      },
      "source": [
        "A = np.random.randint(low=0, high=2, size=(10, 6))\n"
      ],
      "execution_count": null,
      "outputs": [
        {
          "output_type": "execute_result",
          "data": {
            "text/plain": [
              "array([[1, 1, 1, 1, 0, 1],\n",
              "       [0, 1, 0, 1, 1, 1],\n",
              "       [1, 0, 1, 0, 0, 0],\n",
              "       [0, 1, 0, 0, 0, 1],\n",
              "       [1, 1, 1, 0, 0, 1],\n",
              "       [0, 0, 0, 1, 1, 0],\n",
              "       [1, 1, 1, 1, 1, 0],\n",
              "       [1, 0, 0, 1, 0, 0],\n",
              "       [0, 1, 1, 0, 1, 1],\n",
              "       [1, 1, 0, 0, 1, 1]])"
            ]
          },
          "metadata": {},
          "execution_count": 26
        }
      ]
    },
    {
      "cell_type": "markdown",
      "metadata": {
        "id": "wJde65uYhJ2f"
      },
      "source": [
        "Wyznacz łączną liczbę elementów niezerowych dla każdego wiersza tej tablicy.\n",
        "\n",
        "__Wskazówka:__ Wykorzystaj funkcję _np.count_nonzero()_."
      ]
    },
    {
      "cell_type": "code",
      "metadata": {
        "id": "BWG-icQuEEPS",
        "colab": {
          "base_uri": "https://localhost:8080/"
        },
        "outputId": "d64d273f-e314-4277-c1bb-9d39c161725f"
      },
      "source": [
        "np.count_nonzero(A, axis=1)"
      ],
      "execution_count": null,
      "outputs": [
        {
          "output_type": "execute_result",
          "data": {
            "text/plain": [
              "array([5, 4, 2, 2, 4, 2, 5, 2, 4, 4])"
            ]
          },
          "metadata": {},
          "execution_count": 30
        }
      ]
    },
    {
      "cell_type": "markdown",
      "metadata": {
        "id": "PunXd_Ey16so"
      },
      "source": [
        "### <a name='6'></a> Ćwiczenie 56\n",
        "Poniżej podana jest przykładowa tablica $A$:\n",
        "\n",
        "```\n",
        "A = np.random.randn(10, 4)\n",
        "```\n",
        "\n",
        "```\n",
        "array([[-0.53441645, -1.49505387, -0.78925833,  0.74371128],\n",
        "       [-0.21216142, -0.42686879,  0.50144833,  1.15818665],\n",
        "       [ 0.25711687,  0.3145129 ,  1.37186213,  0.17555329],\n",
        "       [-0.30928855,  0.6731255 , -0.25663018, -0.36782572],\n",
        "       [ 1.27373362, -0.29195267, -2.65517605,  0.34551794],\n",
        "       [-0.39551645, -0.28913686,  0.45293633, -0.16606091],\n",
        "       [ 0.21493883, -2.02231493, -0.94305681,  1.40395874],\n",
        "       [-0.0185508 , -1.67350462, -1.07253183, -0.99258618],\n",
        "       [ 0.10234768, -0.43260928, -0.6591823 ,  0.0039373 ],\n",
        "       [ 0.4777541 , -0.25902864, -0.57470921, -0.42149822]])\n",
        "```\n",
        "\n",
        "\n",
        "Ustaw odopowiednią opcję biblioteki numpy pozwalającą drukować tablice z określoną precyzją. Ustaw jej wartość na 4 i wydrukuj tablicę $A$.\n",
        "\n"
      ]
    },
    {
      "cell_type": "code",
      "metadata": {
        "id": "aL6C9MYSYkaL",
        "colab": {
          "base_uri": "https://localhost:8080/"
        },
        "outputId": "b606ae02-b5da-42de-e294-2bed3a468d91"
      },
      "source": [
        "A = np.random.randn(10, 5)\n",
        "np.set_printoptions(precision=4)\n",
        "A"
      ],
      "execution_count": null,
      "outputs": [
        {
          "output_type": "execute_result",
          "data": {
            "text/plain": [
              "array([[ 2.2758,  0.4062, -0.4319,  1.86  ,  1.2004],\n",
              "       [ 1.8161, -0.1109,  0.9763, -1.4528,  0.784 ],\n",
              "       [-0.1577, -1.3551,  1.0326, -1.8101, -1.9127],\n",
              "       [ 0.3625,  0.5713,  0.9705,  0.742 ,  1.4767],\n",
              "       [ 0.7002, -0.1323, -0.0736, -0.2822,  0.2955],\n",
              "       [-1.0973,  0.3409, -0.0864,  0.2756,  0.2787],\n",
              "       [-2.4523, -0.9013, -0.1086, -0.0555,  0.2594],\n",
              "       [ 0.3023,  1.5162,  0.3125, -0.313 , -1.5991],\n",
              "       [-1.3686,  0.5355,  1.0604,  1.5414, -0.8279],\n",
              "       [-0.3039,  0.2423,  2.0474,  0.1149,  1.5513]])"
            ]
          },
          "metadata": {},
          "execution_count": 36
        }
      ]
    },
    {
      "cell_type": "markdown",
      "metadata": {
        "id": "hOhqDRz618Tx"
      },
      "source": [
        "### <a name='7'></a> Ćwiczenie 57\n",
        "Podana jest poniższa tablica numpy $A$:\n",
        "\n",
        "```\n",
        "A = np.array([1.2e-6, 1.7e-7])\n",
        "```\n",
        "\n",
        "Ustaw wartość precyzji na 8. Następnie ustaw odopowiednią opcję biblioteki numpy pozwalającą stłumić notację wykładniczą. Wydrukuj tablicę $A$.\n",
        "\n",
        "__Oczekiwany wynik:__\n",
        "\n",
        "\n",
        "```\n",
        "array([0.0000012 , 0.00000017])\n",
        "```\n",
        "\n",
        "\n",
        "\n"
      ]
    },
    {
      "cell_type": "code",
      "metadata": {
        "id": "BUr3XXiWdUWi",
        "colab": {
          "base_uri": "https://localhost:8080/"
        },
        "outputId": "58a4de4a-ddd4-46af-d057-f29996c19c13"
      },
      "source": [
        "A = np.array([1.2e-6, 1.7e-7])\n",
        "np.set_printoptions(precision=8, suppress=True)\n",
        "A"
      ],
      "execution_count": null,
      "outputs": [
        {
          "output_type": "execute_result",
          "data": {
            "text/plain": [
              "array([0.0000012 , 0.00000017])"
            ]
          },
          "metadata": {},
          "execution_count": 37
        }
      ]
    },
    {
      "cell_type": "markdown",
      "metadata": {
        "id": "TXUd_4631-gw"
      },
      "source": [
        "### <a name='8'></a> Ćwiczenie 58\n",
        "Podana jest poniższa tablica numpy $A$:\n",
        "\n",
        "```\n",
        "A = np.random.randn(8, 4)\n",
        "```\n",
        "Usuń trzecią kolumnę z tablicy $A$.\n",
        "\n",
        "__Oczekiwany wynik:__\n",
        "\n",
        "\n",
        "```\n",
        "array([[-0.55692881, -0.66003196,  0.70856031],\n",
        "       [ 0.22378737, -0.19796576, -0.16889332],\n",
        "       [ 0.26062786,  0.29865445, -0.92259267],\n",
        "       [-2.40317659,  1.79961876, -1.96495796],\n",
        "       [ 0.13051561, -1.7085185 ,  0.54885043],\n",
        "       [ 1.77268727,  0.38751181, -0.05141955],\n",
        "       [-1.80858596, -0.45075211,  0.15332866],\n",
        "       [ 1.94218961, -1.93679529, -1.83350954]])\n",
        "```\n",
        "__Wskazówka:__ Wykorzystaj funkcję _np.delete()_.\n",
        "\n",
        "\n"
      ]
    },
    {
      "cell_type": "code",
      "metadata": {
        "id": "o5PxnILogU6z",
        "colab": {
          "base_uri": "https://localhost:8080/"
        },
        "outputId": "de25afdd-0252-4a24-d169-fd5bec52b777"
      },
      "source": [
        "A = np.random.randn(8, 4)\n",
        "np.delete(A, 2, axis=1)"
      ],
      "execution_count": null,
      "outputs": [
        {
          "output_type": "execute_result",
          "data": {
            "text/plain": [
              "array([[ 0.1699729 ,  1.15324519,  0.16608813],\n",
              "       [-1.02038325, -0.26909444,  0.87782517],\n",
              "       [-0.43365033, -0.34230864,  1.44433879],\n",
              "       [ 0.88606356, -0.13707782, -2.17086583],\n",
              "       [-0.4867145 ,  1.33444564,  0.33070056],\n",
              "       [-0.01471826,  0.79640543, -1.6646932 ],\n",
              "       [-0.00619914,  0.40311933, -1.44119576],\n",
              "       [-0.12291131, -0.07530365,  0.48767327]])"
            ]
          },
          "metadata": {},
          "execution_count": 38
        }
      ]
    },
    {
      "cell_type": "markdown",
      "metadata": {
        "id": "tgI6xEn-2AQo"
      },
      "source": [
        "### <a name='9'></a> Ćwiczenie 59\n",
        "Podana jest tablica jednowymiarowa $v$ (wektor):\n",
        "\n",
        "```\n",
        "v = np.array([3, 4, -2])\n",
        "```\n",
        "Policz normę wektora $v$.\n"
      ]
    },
    {
      "cell_type": "code",
      "metadata": {
        "id": "TYPzAZCwi-Ky",
        "colab": {
          "base_uri": "https://localhost:8080/"
        },
        "outputId": "f7c35524-6bf6-4d6b-bf7d-e8947def5f19"
      },
      "source": [
        "v = np.array([3, 4, -2])\n",
        "np.linalg.norm(v)"
      ],
      "execution_count": null,
      "outputs": [
        {
          "output_type": "execute_result",
          "data": {
            "text/plain": [
              "5.385164807134504"
            ]
          },
          "metadata": {},
          "execution_count": 39
        }
      ]
    },
    {
      "cell_type": "markdown",
      "metadata": {
        "id": "wxhpf-uq2B1I"
      },
      "source": [
        "### <a name='10'></a> Ćwiczenie 60\n",
        "Poniżej podana jest przykładowa tablica $A$:\n",
        "\n",
        "\n",
        "```\n",
        "A = np.random.randint(10, size=(100, 30))\n",
        "```\n",
        "Ustaw odopowiednią opcję biblioteki numpy pozwalającą drukować 10 skrajnych elementów. Wydrukuj tablicę $A$.\n"
      ]
    },
    {
      "cell_type": "code",
      "metadata": {
        "id": "liJX2nIBk-gO",
        "colab": {
          "base_uri": "https://localhost:8080/"
        },
        "outputId": "45ac4802-e59f-43d5-d96d-e38a4573843a"
      },
      "source": [
        "A = np.random.randint(10, size=(100, 30))\n",
        "np.set_printoptions(edgeitems=10)\n",
        "A"
      ],
      "execution_count": null,
      "outputs": [
        {
          "output_type": "execute_result",
          "data": {
            "text/plain": [
              "array([[7, 8, 2, 2, 1, 9, 2, 2, 4, 4, ..., 0, 9, 8, 9, 8, 8, 5, 7, 0, 9],\n",
              "       [3, 0, 7, 0, 2, 3, 7, 5, 9, 6, ..., 5, 2, 2, 8, 6, 4, 9, 6, 8, 0],\n",
              "       [6, 5, 9, 8, 0, 3, 8, 3, 9, 2, ..., 8, 4, 5, 3, 9, 1, 7, 5, 4, 8],\n",
              "       [0, 4, 5, 4, 5, 5, 6, 3, 7, 6, ..., 3, 3, 5, 5, 0, 7, 5, 2, 8, 1],\n",
              "       [7, 9, 2, 4, 5, 9, 5, 3, 2, 3, ..., 5, 1, 7, 9, 4, 6, 9, 1, 7, 1],\n",
              "       [3, 0, 4, 8, 0, 8, 7, 5, 6, 2, ..., 7, 5, 7, 8, 4, 2, 4, 4, 4, 2],\n",
              "       [9, 3, 8, 9, 8, 1, 7, 7, 6, 7, ..., 4, 7, 7, 2, 6, 2, 5, 5, 2, 6],\n",
              "       [2, 7, 9, 3, 0, 3, 6, 3, 5, 8, ..., 0, 5, 5, 3, 7, 3, 7, 7, 4, 3],\n",
              "       [1, 2, 2, 3, 3, 9, 4, 3, 9, 7, ..., 7, 3, 3, 4, 7, 4, 7, 9, 0, 9],\n",
              "       [8, 5, 2, 7, 8, 5, 6, 0, 4, 4, ..., 4, 8, 4, 8, 9, 3, 8, 4, 9, 8],\n",
              "       ...,\n",
              "       [8, 7, 0, 6, 8, 7, 7, 5, 3, 7, ..., 6, 4, 7, 3, 1, 5, 8, 0, 9, 6],\n",
              "       [9, 8, 9, 8, 9, 2, 4, 7, 7, 3, ..., 0, 1, 4, 3, 3, 8, 7, 5, 0, 1],\n",
              "       [5, 1, 9, 4, 4, 5, 5, 5, 1, 9, ..., 7, 9, 8, 4, 8, 1, 2, 6, 6, 5],\n",
              "       [5, 1, 9, 5, 3, 2, 1, 0, 4, 1, ..., 7, 1, 5, 5, 8, 4, 9, 3, 4, 9],\n",
              "       [4, 7, 9, 7, 1, 6, 7, 5, 4, 8, ..., 8, 6, 0, 2, 3, 3, 4, 2, 2, 0],\n",
              "       [6, 9, 0, 1, 3, 3, 4, 1, 3, 0, ..., 4, 9, 0, 0, 5, 1, 7, 8, 3, 4],\n",
              "       [7, 2, 4, 2, 9, 2, 2, 6, 6, 6, ..., 7, 8, 2, 6, 8, 3, 9, 2, 4, 0],\n",
              "       [2, 7, 7, 3, 1, 7, 7, 9, 3, 2, ..., 8, 8, 8, 5, 5, 4, 8, 9, 7, 6],\n",
              "       [6, 5, 4, 3, 2, 2, 5, 3, 5, 2, ..., 5, 3, 6, 7, 5, 4, 5, 4, 7, 0],\n",
              "       [6, 9, 9, 1, 8, 0, 9, 5, 8, 0, ..., 3, 0, 8, 7, 1, 7, 6, 5, 0, 6]])"
            ]
          },
          "metadata": {},
          "execution_count": 40
        }
      ]
    },
    {
      "cell_type": "code",
      "source": [],
      "metadata": {
        "id": "WnvpwV5JcjEE"
      },
      "execution_count": null,
      "outputs": []
    }
  ]
}