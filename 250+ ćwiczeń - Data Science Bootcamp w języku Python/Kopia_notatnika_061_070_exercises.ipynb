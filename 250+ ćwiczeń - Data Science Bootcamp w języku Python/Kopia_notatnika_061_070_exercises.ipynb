{
  "nbformat": 4,
  "nbformat_minor": 0,
  "metadata": {
    "colab": {
      "provenance": []
    },
    "kernelspec": {
      "name": "python3",
      "display_name": "Python 3"
    }
  },
  "cells": [
    {
      "cell_type": "markdown",
      "metadata": {
        "id": "WLEgCW5F1hho"
      },
      "source": [
        "## Numpy\n",
        "\n",
        "### Spis treści:\n",
        "* [Import biblioteki](#0)\n",
        "* [Ćwiczenie 61](#1)\n",
        "* [Ćwiczenie 62](#2)\n",
        "* [Ćwiczenie 63](#3)\n",
        "* [Ćwiczenie 64](#4)\n",
        "* [Ćwiczenie 65](#5)\n",
        "* [Ćwiczenie 66](#6)\n",
        "* [Ćwiczenie 67](#7)\n",
        "* [Ćwiczenie 68](#8)\n",
        "* [Ćwiczenie 69](#9)\n",
        "* [Ćwiczenie 70](#10)"
      ]
    },
    {
      "cell_type": "markdown",
      "metadata": {
        "id": "zeLOLmTj1kBM"
      },
      "source": [
        "### <a name='0'></a>Import biblioteki"
      ]
    },
    {
      "cell_type": "code",
      "metadata": {
        "id": "HXMB7SMe1Wnz",
        "colab": {
          "base_uri": "https://localhost:8080/",
          "height": 35
        },
        "outputId": "fcb8fbdb-1c1d-45db-ac7b-006b17a65822"
      },
      "source": [
        "import numpy as np\n",
        "\n",
        "np.set_printoptions(suppress=True, precision=4)\n",
        "np.random.seed(42)\n",
        "np.__version__"
      ],
      "execution_count": null,
      "outputs": [
        {
          "output_type": "execute_result",
          "data": {
            "text/plain": [
              "'1.21.6'"
            ],
            "application/vnd.google.colaboratory.intrinsic+json": {
              "type": "string"
            }
          },
          "metadata": {},
          "execution_count": 1
        }
      ]
    },
    {
      "cell_type": "markdown",
      "metadata": {
        "id": "cyc70pMe1oCg"
      },
      "source": [
        "### <a name='1'></a> Ćwiczenie 61\n",
        "Podane są poniższe dwie tablice $A$ i $B$:\n",
        "\n",
        "```\n",
        "A = np.array([[3, 4, 9, 2],\n",
        "              [5, 3, 2, 5]])\n",
        "B = np.array([[4, 3, 2, 5],\n",
        "              [6, 3, 1, 6]])\n",
        "```\n",
        "\n",
        "Wyznacz tablicę składającą się ze średnich arytmetycznych tablic $A$ i $B$ odpowiadających im elementów.\n",
        "\n",
        "__Oczekiwany wynik:__\n",
        "\n",
        "\n",
        "```\n",
        "array([[3.5, 3.5, 5.5, 3.5],\n",
        "       [5.5, 3. , 1.5, 5.5]])\n",
        "```\n",
        "\n"
      ]
    },
    {
      "cell_type": "code",
      "metadata": {
        "id": "9zMjVYfP-tI6",
        "colab": {
          "base_uri": "https://localhost:8080/"
        },
        "outputId": "6c9e8d8b-3791-4cf8-fb8b-3beb069a78b0"
      },
      "source": [
        "A = np.array([[3, 4, 9, 2],\n",
        "              [5, 3, 2, 5]])\n",
        "B = np.array([[4, 3, 2, 5],\n",
        "              [6, 3, 1, 6]])\n",
        "\n",
        "(A+B)/2"
      ],
      "execution_count": null,
      "outputs": [
        {
          "output_type": "execute_result",
          "data": {
            "text/plain": [
              "array([[3.5, 3.5, 5.5, 3.5],\n",
              "       [5.5, 3. , 1.5, 5.5]])"
            ]
          },
          "metadata": {},
          "execution_count": 3
        }
      ]
    },
    {
      "cell_type": "markdown",
      "metadata": {
        "id": "J9pY1rtr1sC0"
      },
      "source": [
        "### <a name='2'></a> Ćwiczenie 62\n",
        "Podane są poniższe dwie tablice $A$ i $B$:\n",
        "\n",
        "```\n",
        "A = np.array([[3, 4, 9, 2],\n",
        "              [5, 3, 2, 5]])\n",
        "B = np.array([[4, 3, 2, 5],\n",
        "              [6, 3, 1, 6]])\n",
        "```\n",
        "Pomnóż tablice przez siebie - element po elemencie (element-wise).\n"
      ]
    },
    {
      "cell_type": "code",
      "metadata": {
        "id": "9b_Bhik1Jqo7",
        "colab": {
          "base_uri": "https://localhost:8080/"
        },
        "outputId": "9096cd06-4e3d-4415-e9c5-46f05742b7cc"
      },
      "source": [
        "A = np.array([[3, 4, 9, 2],\n",
        "              [5, 3, 2, 5]])\n",
        "B = np.array([[4, 3, 2, 5],\n",
        "              [6, 3, 1, 6]])\n",
        "\n",
        "A*B"
      ],
      "execution_count": null,
      "outputs": [
        {
          "output_type": "execute_result",
          "data": {
            "text/plain": [
              "array([[12, 12, 18, 10],\n",
              "       [30,  9,  2, 30]])"
            ]
          },
          "metadata": {},
          "execution_count": 4
        }
      ]
    },
    {
      "cell_type": "markdown",
      "metadata": {
        "id": "XQLYT2m11wVG"
      },
      "source": [
        "### <a name='3'></a> Ćwiczenie 63\n",
        "Podana jest poniższa tablica $A$:\n",
        "\n",
        "```\n",
        "A = np.array([[3, 4, 9, 2],\n",
        "              [5, 3, 2, 5]])\n",
        "```\n",
        "Wyznacz pierwiastek z każdego elementu tablicy $A$.\n",
        "\n",
        "__Wskazówka:__ Użyj funkcji _np.sqrt()_.\n",
        "\n"
      ]
    },
    {
      "cell_type": "code",
      "metadata": {
        "id": "vcAGgYGhKOTd",
        "colab": {
          "base_uri": "https://localhost:8080/"
        },
        "outputId": "c6ca46a2-1902-4a02-b93b-c878ffdeda77"
      },
      "source": [
        "A = np.array([[3, 4, 9, 2],\n",
        "              [5, 3, 2, 5]])\n",
        "\n",
        "np.sqrt(A)"
      ],
      "execution_count": null,
      "outputs": [
        {
          "output_type": "execute_result",
          "data": {
            "text/plain": [
              "array([[1.7321, 2.    , 3.    , 1.4142],\n",
              "       [2.2361, 1.7321, 1.4142, 2.2361]])"
            ]
          },
          "metadata": {},
          "execution_count": 5
        }
      ]
    },
    {
      "cell_type": "markdown",
      "metadata": {
        "id": "4xTKSUzg10MK"
      },
      "source": [
        "### <a name='4'></a> Ćwiczenie 64\n",
        "Podane są poniższe tablice $A$ oraz $B$:\n",
        "\n",
        "\n",
        "```\n",
        "A = np.linspace(0, np.pi / 2, 20)\n",
        "B = np.full(shape=(20,), fill_value=1, dtype='float')\n",
        "```\n",
        "Sprawdź działanie jedynki trygonometrycznej na tablicy $A$ i następnie porównaj wynik z tablicą $B$. Użyj funkcji _np.allclose()_.\n",
        "\n",
        "__Jedynka trygonometryczna:__ Dla dowolnej wartości kąta $\\alpha \\in R$ zachodzi:\n",
        "$$sin^2\\alpha + cos^2\\alpha = 1$$\n",
        "\n"
      ]
    },
    {
      "cell_type": "code",
      "metadata": {
        "id": "jI143TodMDId",
        "colab": {
          "base_uri": "https://localhost:8080/"
        },
        "outputId": "db53294e-55a3-4016-f883-ccdd855e6c7b"
      },
      "source": [
        "A = np.linspace(0, np.pi / 2, 20)\n",
        "B = np.full(shape=(20,), fill_value=1, dtype='float')\n",
        "\n",
        "one=np.sin(A)**2+np.cos(A)**2\n",
        "np.allclose(one, B)"
      ],
      "execution_count": null,
      "outputs": [
        {
          "output_type": "execute_result",
          "data": {
            "text/plain": [
              "True"
            ]
          },
          "metadata": {},
          "execution_count": 7
        }
      ]
    },
    {
      "cell_type": "markdown",
      "metadata": {
        "id": "o3HKIKlP15Ro"
      },
      "source": [
        "### Przypomnienie\n",
        "### Mnożenie macierzy:\n",
        "$${A} ={\\begin{bmatrix}a_{11}&a_{12}&\\cdots &a_{1n}\\\\a_{21}&a_{22}&\\cdots &a_{2n}\\\\\\vdots &\\vdots &\\ddots &\\vdots \\\\a_{m1}&a_{m2}&\\cdots &a_{mn}\\\\\\end{bmatrix}}$$\n",
        "A - macierz wymairu $m\\ x\\ n$\n",
        "\n",
        "$$ {B} ={\\begin{bmatrix}b_{11}&b_{12}&\\cdots &b_{1p}\\\\b_{21}&b_{22}&\\cdots &b_{2p}\\\\\\vdots &\\vdots &\\ddots &\\vdots \\\\b_{n1}&b_{n2}&\\cdots &b_{np}\\\\\\end{bmatrix}}$$\n",
        "B - macierz wymairu $n\\ x\\ p$\n",
        "\n",
        "$$C = AB$$ \n",
        "C - macierz wymiaru $m\\ x\\ p$  \n",
        "Aby móc pomnożyć dwie macierze liczba kolumn w lewej macierzy musi zgadzać się z liczbą wierszy prawej macierzy.\n",
        "\n",
        "Mnożenie macierzy nie jest przemienne! Tzn. $$AB \\neq BA$$\n",
        "\n",
        "### Przykład 1\n",
        "$ X = \\begin{bmatrix}5&3\\\\3&9\\end{bmatrix}$, $ Y= \\begin{bmatrix}1\\\\-1\\end{bmatrix} $  \n",
        "$X$ macierz 2x2  \n",
        "$Y$ macierz 2x1\n",
        "$$Z = X \\cdot Y = \\begin{bmatrix}5&3\\\\3&9\\end{bmatrix} \\cdot \\begin{bmatrix}1\\\\-1\\end{bmatrix} = \\begin{bmatrix}2\\\\-6\\end{bmatrix}$$\n",
        "$Z$ macierz 2x1\n",
        "\n",
        "### Przykład 2\n",
        "$X = \\begin{bmatrix}2&-1&3\\\\3&1&0\\end{bmatrix}$, $Y = \\begin{bmatrix}2&1&-1\\\\0&-1&2\\\\3&2&0\\end{bmatrix}$\n",
        "\n",
        "$X$ macierz 2x3  \n",
        "$Y$ macierz 3x3\n",
        "$$Z = X \\cdot Y =  \\begin{bmatrix}2&-1&3\\\\3&1&0\\end{bmatrix} \\cdot \\begin{bmatrix}2&1&-1\\\\0&-1&2\\\\3&2&0\\end{bmatrix} = \\begin{bmatrix}13&9&-4\\\\6&2&-1\\end{bmatrix}$$\n",
        "$Z$ macierz 2x3\n",
        "\n",
        "\n"
      ]
    },
    {
      "cell_type": "markdown",
      "metadata": {
        "id": "cDCQVpQUr6qb"
      },
      "source": [
        "### <a name='5'></a> Ćwiczenie 65\n",
        "\n",
        "Podane są dwie dwuwymiarowe tablice numpy $A$ oraz $B$.  \n",
        "$A$ - macierz wymiaru $(3, 2)$  \n",
        "$B$ - macierz wymiaru $(2, 3)$\n",
        "\n",
        "```\n",
        "A = np.array([[2, 3],\n",
        "              [-4, 2],\n",
        "              [5, 0]])\n",
        "B = np.array([[4, 3, 2],\n",
        "              [-1, 0, 2]])\n",
        "```\n",
        "Dokonaj mnożenia macierzowego tablic $A$ i $B$.\n",
        "\n",
        "__Wskazówka:__ Użyj funkcji _np.dot()_.\n"
      ]
    },
    {
      "cell_type": "code",
      "metadata": {
        "id": "wXd9qiJLQyfs",
        "colab": {
          "base_uri": "https://localhost:8080/"
        },
        "outputId": "0d4c52c7-a110-43a7-8991-2ad8d7119b26"
      },
      "source": [
        "A = np.array([[2, 3],\n",
        "              [-4, 2],\n",
        "              [5, 0]])\n",
        "B = np.array([[4, 3, 2],\n",
        "              [-1, 0, 2]])\n",
        "\n",
        "np.dot(A,B)"
      ],
      "execution_count": null,
      "outputs": [
        {
          "output_type": "execute_result",
          "data": {
            "text/plain": [
              "array([[  5,   6,  10],\n",
              "       [-18, -12,  -4],\n",
              "       [ 20,  15,  10]])"
            ]
          },
          "metadata": {},
          "execution_count": 8
        }
      ]
    },
    {
      "cell_type": "markdown",
      "metadata": {
        "id": "Yemog0IvsNsH"
      },
      "source": [
        "### Przypomnienie\n",
        "\n",
        "### Wyznacznik macierzy:\n",
        "\n",
        "$${\\displaystyle A={\\begin{bmatrix}a_{11}&a_{12}&\\dots &a_{1n}\\\\a_{21}&a_{22}&\\dots &a_{2n}\\\\\\vdots &\\vdots &\\ddots &\\vdots \\\\a_{n1}&a_{n2}&\\dots &a_{nn}\\end{bmatrix}}}$$\n",
        "$A$ - macierz wymiaru nxn\n",
        "\n",
        "#### Oznaczenia:\n",
        "\n",
        "${\\displaystyle |A|=\\left|{\\begin{array}{c}a_{11}&a_{12}&\\dots &a_{1n}\\\\a_{21}&a_{22}&\\dots &a_{2n}\\\\\\vdots &\\vdots &\\ddots &\\vdots \\\\a_{n1}&a_{n2}&\\dots &a_{nn}\\end{array}}\\right|} $  lub  $ {\\displaystyle \\det A=\\det {\\begin{bmatrix}a_{11}&a_{12}&\\dots &a_{1n}\\\\a_{21}&a_{22}&\\dots &a_{2n}\\\\\\vdots &\\vdots &\\ddots &\\vdots \\\\a_{n1}&a_{n2}&\\dots &a_{nn}\\end{bmatrix}}}$\n",
        "\n",
        "#### Przykład:\n",
        "${\\displaystyle \\det A={\\begin{vmatrix}a_{11}&a_{12}\\\\a_{21}&a_{22}\\end{vmatrix}}=a_{11}a_{22}-a_{12}a_{21}}$\n",
        "\n",
        "${\\displaystyle \\det A={\\begin{vmatrix}a_{11}&a_{12}&a_{13}\\\\a_{21}&a_{22}&a_{23}\\\\a_{31}&a_{32}&a_{33}\\end{vmatrix}}=a_{11}a_{22}a_{33}+a_{21}a_{32}a_{13}+a_{31}a_{12}a_{23}-a_{21}a_{12}a_{33}-a_{11}a_{32}a_{23}-a_{31}a_{22}a_{13}}$\n",
        "\n",
        "${\\displaystyle \\det A={\\begin{vmatrix}2&4\\\\-1&3\\end{vmatrix}}=2\\cdot3-4\\cdot(-1)} = 6 + 4 = 10 $\n",
        "\n",
        "\n",
        "\n"
      ]
    },
    {
      "cell_type": "markdown",
      "metadata": {
        "id": "PunXd_Ey16so"
      },
      "source": [
        "### <a name='6'></a> Ćwiczenie 66\n",
        "Podana jest poniższa tablica (macierz kwadratowa) $A$:\n",
        "\n",
        "```\n",
        "A = np.array([[-2, 0, 4],\n",
        "              [5, 2, -1],\n",
        "              [-4, 2, 4]])\n",
        "```\n",
        "Wyznacz wyznacznik macierzy $A$.\n",
        "\n",
        "__Wskazówka:__ Użyj funkcji _np.linalg.det()_.\n"
      ]
    },
    {
      "cell_type": "code",
      "metadata": {
        "id": "90J6eB4RSmAG",
        "colab": {
          "base_uri": "https://localhost:8080/"
        },
        "outputId": "defd01fe-f7fb-4ad3-e888-b17aa8eb1691"
      },
      "source": [
        "A = np.array([[-2, 0, 4],\n",
        "              [5, 2, -1],\n",
        "              [-4, 2, 4]])\n",
        "\n",
        "np.linalg.det(A)"
      ],
      "execution_count": null,
      "outputs": [
        {
          "output_type": "execute_result",
          "data": {
            "text/plain": [
              "51.999999999999986"
            ]
          },
          "metadata": {},
          "execution_count": 9
        }
      ]
    },
    {
      "cell_type": "markdown",
      "metadata": {
        "id": "hOhqDRz618Tx"
      },
      "source": [
        "### <a name='7'></a> Ćwiczenie 67\n",
        "Podana jest poniższa tablica (macierz kwadratowa) $A$:\n",
        "\n",
        "```\n",
        "A = np.array([[5, 8, 16],\n",
        "              [4, 1, 8],\n",
        "              [-4, 4, -11]])\n",
        "```\n",
        "Wyzancz wartości własne i odpowiadające im wektory własne macierzy $A$.\n",
        "\n",
        "__Wskazówka:__ Użyj funkcji _np.linalg.eig()_.\n"
      ]
    },
    {
      "cell_type": "code",
      "metadata": {
        "id": "DYG72PcWTvPT"
      },
      "source": [
        "A = np.array([[5, 8, 16],\n",
        "              [4, 1, 8],\n",
        "              [-4, 4, -11]])\n",
        "\n",
        "values, vectors = np.linalg.eig(A)"
      ],
      "execution_count": null,
      "outputs": []
    },
    {
      "cell_type": "code",
      "source": [
        "values"
      ],
      "metadata": {
        "colab": {
          "base_uri": "https://localhost:8080/"
        },
        "id": "3gubJx1mhgP3",
        "outputId": "ff77fa86-5119-450c-dfcf-ca87e87c11aa"
      },
      "execution_count": null,
      "outputs": [
        {
          "output_type": "execute_result",
          "data": {
            "text/plain": [
              "array([-9.2462, -3.    ,  7.2462])"
            ]
          },
          "metadata": {},
          "execution_count": 12
        }
      ]
    },
    {
      "cell_type": "code",
      "source": [
        "vectors"
      ],
      "metadata": {
        "colab": {
          "base_uri": "https://localhost:8080/"
        },
        "id": "5lc83gOPhho0",
        "outputId": "2aa9a85f-5767-4aec-89a8-4ebfe4c2f106"
      },
      "execution_count": null,
      "outputs": [
        {
          "output_type": "execute_result",
          "data": {
            "text/plain": [
              "array([[-0.6262, -0.8944,  0.8902],\n",
              "       [-0.3131,  0.    ,  0.4451],\n",
              "       [ 0.7141,  0.4472, -0.0976]])"
            ]
          },
          "metadata": {},
          "execution_count": 13
        }
      ]
    },
    {
      "cell_type": "markdown",
      "metadata": {
        "id": "bj6TWh-9s7fL"
      },
      "source": [
        "### Przypomnienie\n",
        "### Macierz odwrotna:\n",
        "\n",
        "$A$ - macierz kwadratowa stopnia $n$. Macierz $A$ posiada macierz odwrotną, gdy istnieje macierz $B$, taka, że\n",
        "$$AB = BA = I$$\n",
        "\n",
        "$A = \\begin{bmatrix}2&4\\\\-1&3\\end{bmatrix}$"
      ]
    },
    {
      "cell_type": "markdown",
      "metadata": {
        "id": "TXUd_4631-gw"
      },
      "source": [
        "### <a name='8'></a> Ćwiczenie 68\n",
        "Podana jest poniższa tablica (macierz kwadratowa) $A$:\n",
        "\n",
        "```\n",
        "A = np.array([[5, 8, 16],\n",
        "              [4, 1, 8],\n",
        "              [-4, 4, -11]])\n",
        "```\n",
        "Wyznacz macierz odwrotną do macierzy $A$.\n",
        "\n",
        "__Wskazówka:__ Użyj funkcji _np.linalg.inv()_.\n"
      ]
    },
    {
      "cell_type": "code",
      "metadata": {
        "id": "l0duTp0Db7EM",
        "colab": {
          "base_uri": "https://localhost:8080/"
        },
        "outputId": "b8dfbdf7-80ab-4032-eaf1-35391873e862"
      },
      "source": [
        "A = np.array([[5, 8, 16],\n",
        "              [4, 1, 8],\n",
        "              [-4, 4, -11]])\n",
        "\n",
        "np.linalg.inv(A)"
      ],
      "execution_count": null,
      "outputs": [
        {
          "output_type": "execute_result",
          "data": {
            "text/plain": [
              "array([[-0.2139,  0.7562,  0.2388],\n",
              "       [ 0.0597,  0.0448,  0.1194],\n",
              "       [ 0.0995, -0.2587, -0.1343]])"
            ]
          },
          "metadata": {},
          "execution_count": 14
        }
      ]
    },
    {
      "cell_type": "markdown",
      "metadata": {
        "id": "ht_WwJrqsczo"
      },
      "source": [
        "### Przypomnienie\n",
        "\n",
        "### Ślad macierzy:\n",
        "\n",
        "$${\\displaystyle A={\\begin{bmatrix}a_{11}&a_{12}&\\dots &a_{1n}\\\\a_{21}&a_{22}&\\dots &a_{2n}\\\\\\vdots &\\vdots &\\ddots &\\vdots \\\\a_{n1}&a_{n2}&\\dots &a_{nn}\\end{bmatrix}}}$$\n",
        "$A$ - macierz wymiaru nxn\n",
        "\n",
        "${\\displaystyle \\operatorname {tr} (A)=\\sum _{i=1}^{n}a_{ii}=a_{11}+a_{22}+\\dots +a_{nn}}$\n",
        "\n",
        "#### Przykład:\n",
        "$A = \\begin{bmatrix}2&4\\\\-1&3\\end{bmatrix}$\n",
        "\n",
        "${\\displaystyle \\operatorname {tr} (A)=\\sum _{i=1}^{2}a_{ii}=a_{11}+a_{22} = 2 + 3 = 5}$"
      ]
    },
    {
      "cell_type": "markdown",
      "metadata": {
        "id": "tgI6xEn-2AQo"
      },
      "source": [
        "### <a name='9'></a> Ćwiczenie 69\n",
        "Podana jest poniższa tablica (macierz kwadratowa) $A$:\n",
        "\n",
        "```\n",
        "A = np.array([[5, 8, 16],\n",
        "              [4, 1, 8],\n",
        "              [-4, 4, -11]])\n",
        "```\n",
        "Wyznacz ślad macierzy kwadratowej $A$ (suma elementów na głównej przekątnej).\n",
        "\n",
        "__Wskazówka:__ Użyj funkcji _np.trace()_.\n"
      ]
    },
    {
      "cell_type": "code",
      "metadata": {
        "id": "XiuQkuNTcYkC",
        "colab": {
          "base_uri": "https://localhost:8080/"
        },
        "outputId": "691dd913-ca0a-4ecf-80dc-6ce489fceca6"
      },
      "source": [
        "A = np.array([[5, 8, 16],\n",
        "              [4, 1, 8],\n",
        "              [-4, 4, -11]])\n",
        "\n",
        "np.trace(A)"
      ],
      "execution_count": null,
      "outputs": [
        {
          "output_type": "execute_result",
          "data": {
            "text/plain": [
              "-5"
            ]
          },
          "metadata": {},
          "execution_count": 15
        }
      ]
    },
    {
      "cell_type": "markdown",
      "metadata": {
        "id": "ZsBk6UK-uPpQ"
      },
      "source": [
        "### Przypomnienie\n",
        "### Macierz transponowana:\n",
        "\n",
        "Zamiana wierszy na kolumny i kolumny na wiersze.\n",
        "\n",
        "#### Przykład 1:\n",
        "\n",
        "$A = \\begin{bmatrix}2&4\\\\-1&3\\end{bmatrix}$,\n",
        "$A^{T} = \\begin{bmatrix}2&-1\\\\4&3\\end{bmatrix}$\n",
        "\n",
        "#### Przykład 2:\n",
        "$A = \\begin{bmatrix}2&1&-1\\\\0&-1&2\\end{bmatrix}$,\n",
        "$A^{T} = \\begin{bmatrix}2&0\\\\1&-1\\\\-1&2\\end{bmatrix}$\n"
      ]
    },
    {
      "cell_type": "markdown",
      "metadata": {
        "id": "7tGnMHu7uXOe"
      },
      "source": [
        "### Ćwiczenie 69 c.d.\n",
        "Dokonaj transpozycji macierzy $A$."
      ]
    },
    {
      "cell_type": "code",
      "metadata": {
        "id": "SA2K4h0bufDc",
        "colab": {
          "base_uri": "https://localhost:8080/"
        },
        "outputId": "27e8f6a2-f1e5-4536-d642-b9f05d80fd63"
      },
      "source": [
        "A.T"
      ],
      "execution_count": null,
      "outputs": [
        {
          "output_type": "execute_result",
          "data": {
            "text/plain": [
              "array([[  5,   4,  -4],\n",
              "       [  8,   1,   4],\n",
              "       [ 16,   8, -11]])"
            ]
          },
          "metadata": {},
          "execution_count": 16
        }
      ]
    },
    {
      "cell_type": "markdown",
      "metadata": {
        "id": "wxhpf-uq2B1I"
      },
      "source": [
        "### <a name='10'></a> Ćwiczenie 70\n",
        "Podane są dwie dwuwymiarowe tablice numpy $A$ oraz $B$:   \n",
        "$A$ - macierz wymiaru $(4, 2)$  \n",
        "$B$ - macierz wymiaru $(1, 8)$\n",
        "\n",
        "```\n",
        "A = np.array([[2, 0],\n",
        "              [4, 2],\n",
        "              [5, 3],\n",
        "              [4, 2]])\n",
        "B = np.array([[4, 0, 2, 1, 1, 0, 2, 9]])\n",
        "```\n",
        "Przekształć tablicę $B$ tak, aby można było dokonać mnożenia macierzowego $A \\cdot B$. Wykonaj to mnożenie.\n",
        "\n",
        "__Oczekiwany wynik:__\n",
        "\n",
        "\n",
        "```\n",
        "array([[ 8,  0,  4,  2],\n",
        "       [18,  0, 12, 22],\n",
        "       [23,  0, 16, 32],\n",
        "       [18,  0, 12, 22]])\n",
        "```\n",
        "\n",
        "\n"
      ]
    },
    {
      "cell_type": "code",
      "metadata": {
        "id": "bALDEEmGdAbD",
        "colab": {
          "base_uri": "https://localhost:8080/"
        },
        "outputId": "163a8dbe-b933-4b52-f7da-15546e0dd47e"
      },
      "source": [
        "A = np.array([[2, 0],\n",
        "              [4, 2],\n",
        "              [5, 3],\n",
        "              [4, 2]])\n",
        "B = np.array([[4, 0, 2, 1, 1, 0, 2, 9]])\n",
        "B=B.reshape(2,4)\n",
        "np.dot(A,B)"
      ],
      "execution_count": null,
      "outputs": [
        {
          "output_type": "execute_result",
          "data": {
            "text/plain": [
              "array([[ 8,  0,  4,  2],\n",
              "       [18,  0, 12, 22],\n",
              "       [23,  0, 16, 32],\n",
              "       [18,  0, 12, 22]])"
            ]
          },
          "metadata": {},
          "execution_count": 20
        }
      ]
    },
    {
      "cell_type": "code",
      "source": [],
      "metadata": {
        "id": "m-W6SZcOh7C0"
      },
      "execution_count": null,
      "outputs": []
    }
  ]
}