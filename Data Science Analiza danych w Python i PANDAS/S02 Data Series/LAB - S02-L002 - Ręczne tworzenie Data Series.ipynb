{
 "cells": [
  {
   "cell_type": "code",
   "execution_count": 1,
   "id": "93d52dba",
   "metadata": {},
   "outputs": [],
   "source": [
    "import pandas as pd\n",
    "import numpy as np\n",
    "import matplotlib.pyplot as plt\n",
    "import math as math"
   ]
  },
  {
   "cell_type": "code",
   "execution_count": 3,
   "id": "9fcf8341",
   "metadata": {},
   "outputs": [
    {
     "data": {
      "text/plain": [
       "['mon', 'tues', 'wedn', 'thurs', 'fri', 'satur', 'sun']"
      ]
     },
     "execution_count": 3,
     "metadata": {},
     "output_type": "execute_result"
    }
   ],
   "source": [
    "weekdays=['mon','tues','wedn','thurs','fri','satur','sun']\n",
    "weekdays"
   ]
  },
  {
   "cell_type": "code",
   "execution_count": 4,
   "id": "89bd7685",
   "metadata": {},
   "outputs": [
    {
     "data": {
      "text/plain": [
       "0      mon\n",
       "1     tues\n",
       "2     wedn\n",
       "3    thurs\n",
       "4      fri\n",
       "5    satur\n",
       "6      sun\n",
       "dtype: object"
      ]
     },
     "execution_count": 4,
     "metadata": {},
     "output_type": "execute_result"
    }
   ],
   "source": [
    "weekdaysSeries=pd.Series(weekdays)\n",
    "weekdaysSeries"
   ]
  },
  {
   "cell_type": "code",
   "execution_count": 5,
   "id": "48e58dcf",
   "metadata": {},
   "outputs": [
    {
     "data": {
      "text/plain": [
       "[False, False, False, False, False, True, True]"
      ]
     },
     "execution_count": 5,
     "metadata": {},
     "output_type": "execute_result"
    }
   ],
   "source": [
    "freedays=[False,False,False,False,False,True,True]\n",
    "freedays"
   ]
  },
  {
   "cell_type": "code",
   "execution_count": 6,
   "id": "4f1159fd",
   "metadata": {},
   "outputs": [
    {
     "data": {
      "text/plain": [
       "0    False\n",
       "1    False\n",
       "2    False\n",
       "3    False\n",
       "4    False\n",
       "5     True\n",
       "6     True\n",
       "dtype: bool"
      ]
     },
     "execution_count": 6,
     "metadata": {},
     "output_type": "execute_result"
    }
   ],
   "source": [
    "freedaysSeries=pd.Series(freedays)\n",
    "freedaysSeries"
   ]
  },
  {
   "cell_type": "code",
   "execution_count": 8,
   "id": "0d5fb5d3",
   "metadata": {},
   "outputs": [
    {
     "data": {
      "text/plain": [
       "{'New Year': '2018-01-01', 'Epiphany': '2018-01-06', 'Easter': '2018-04-01'}"
      ]
     },
     "execution_count": 8,
     "metadata": {},
     "output_type": "execute_result"
    }
   ],
   "source": [
    "holidays={'New Year':'2018-01-01',\n",
    "         'Epiphany':'2018-01-06',\n",
    "         'Easter':'2018-04-01'}\n",
    "holidays"
   ]
  },
  {
   "cell_type": "code",
   "execution_count": 9,
   "id": "0aa3dfbb",
   "metadata": {},
   "outputs": [
    {
     "data": {
      "text/plain": [
       "New Year    2018-01-01\n",
       "Epiphany    2018-01-06\n",
       "Easter      2018-04-01\n",
       "dtype: object"
      ]
     },
     "execution_count": 9,
     "metadata": {},
     "output_type": "execute_result"
    }
   ],
   "source": [
    "holidaysSeries=pd.Series(holidays)\n",
    "holidaysSeries"
   ]
  },
  {
   "cell_type": "code",
   "execution_count": null,
   "id": "0b5676e7",
   "metadata": {},
   "outputs": [],
   "source": []
  }
 ],
 "metadata": {
  "kernelspec": {
   "display_name": "Python 3 (ipykernel)",
   "language": "python",
   "name": "python3"
  },
  "language_info": {
   "codemirror_mode": {
    "name": "ipython",
    "version": 3
   },
   "file_extension": ".py",
   "mimetype": "text/x-python",
   "name": "python",
   "nbconvert_exporter": "python",
   "pygments_lexer": "ipython3",
   "version": "3.9.7"
  }
 },
 "nbformat": 4,
 "nbformat_minor": 5
}
