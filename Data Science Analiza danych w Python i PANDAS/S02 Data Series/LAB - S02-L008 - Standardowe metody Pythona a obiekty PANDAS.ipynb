{
 "cells": [
  {
   "cell_type": "code",
   "execution_count": 1,
   "id": "b02d2773",
   "metadata": {},
   "outputs": [],
   "source": [
    "import pandas as pd\n",
    "import math as math\n",
    "import numpy as numpy\n",
    "import matplotlib.pyplot as plt"
   ]
  },
  {
   "cell_type": "code",
   "execution_count": 11,
   "id": "b80c0bc9",
   "metadata": {},
   "outputs": [
    {
     "data": {
      "text/plain": [
       "2     113750.0\n",
       "14    100000.0\n",
       "17    130000.0\n",
       "18     82500.0\n",
       "22    100764.0\n",
       "Name: Salary, dtype: float64"
      ]
     },
     "execution_count": 11,
     "metadata": {},
     "output_type": "execute_result"
    }
   ],
   "source": [
    "salary=pd.read_csv(\"./course-files/StackOverflowDeveloperSurvey.csv\",usecols=['Salary'],squeeze=True).dropna()\n",
    "salary.head()"
   ]
  },
  {
   "cell_type": "code",
   "execution_count": 5,
   "id": "532d532b",
   "metadata": {},
   "outputs": [
    {
     "data": {
      "text/plain": [
       "pandas.core.series.Series"
      ]
     },
     "execution_count": 5,
     "metadata": {},
     "output_type": "execute_result"
    }
   ],
   "source": [
    "type(salary)"
   ]
  },
  {
   "cell_type": "code",
   "execution_count": 10,
   "id": "ecfd5a89",
   "metadata": {},
   "outputs": [
    {
     "data": {
      "text/plain": [
       "51392"
      ]
     },
     "execution_count": 10,
     "metadata": {},
     "output_type": "execute_result"
    }
   ],
   "source": [
    "len(salary)"
   ]
  },
  {
   "cell_type": "code",
   "execution_count": 12,
   "id": "0f1b75b6",
   "metadata": {},
   "outputs": [
    {
     "data": {
      "text/plain": [
       "0.0"
      ]
     },
     "execution_count": 12,
     "metadata": {},
     "output_type": "execute_result"
    }
   ],
   "source": [
    "min(salary)"
   ]
  },
  {
   "cell_type": "code",
   "execution_count": 13,
   "id": "0caec7fa",
   "metadata": {},
   "outputs": [
    {
     "data": {
      "text/plain": [
       "197000.0"
      ]
     },
     "execution_count": 13,
     "metadata": {},
     "output_type": "execute_result"
    }
   ],
   "source": [
    "max(salary)"
   ]
  },
  {
   "cell_type": "code",
   "execution_count": 14,
   "id": "6e13e1cf",
   "metadata": {},
   "outputs": [
    {
     "data": {
      "text/plain": [
       "[113750.0, 100000.0, 130000.0, 82500.0, 100764.0]"
      ]
     },
     "execution_count": 14,
     "metadata": {},
     "output_type": "execute_result"
    }
   ],
   "source": [
    "list(salary.head())"
   ]
  },
  {
   "cell_type": "code",
   "execution_count": 15,
   "id": "23b1b4e3",
   "metadata": {},
   "outputs": [
    {
     "data": {
      "text/plain": [
       "{2: 113750.0, 14: 100000.0, 17: 130000.0, 18: 82500.0, 22: 100764.0}"
      ]
     },
     "execution_count": 15,
     "metadata": {},
     "output_type": "execute_result"
    }
   ],
   "source": [
    "dict(salary.head())"
   ]
  },
  {
   "cell_type": "code",
   "execution_count": 24,
   "id": "125cb139",
   "metadata": {},
   "outputs": [
    {
     "data": {
      "text/plain": [
       "[197000.0, 195000.0, 195000.0, 195000.0, 195000.0]"
      ]
     },
     "execution_count": 24,
     "metadata": {},
     "output_type": "execute_result"
    }
   ],
   "source": [
    "listSalarySorted=sorted(salary,reverse=True)\n",
    "listSalarySorted[:5]"
   ]
  },
  {
   "cell_type": "code",
   "execution_count": 23,
   "id": "0e276c0a",
   "metadata": {},
   "outputs": [
    {
     "data": {
      "text/plain": [
       "2     113750.0\n",
       "14    100000.0\n",
       "17    130000.0\n",
       "18     82500.0\n",
       "22    100764.0\n",
       "Name: Salary of a person, dtype: float64"
      ]
     },
     "execution_count": 23,
     "metadata": {},
     "output_type": "execute_result"
    }
   ],
   "source": [
    "salary.name='Salary of a person'\n",
    "salary.head()"
   ]
  },
  {
   "cell_type": "code",
   "execution_count": null,
   "id": "711dfa06",
   "metadata": {},
   "outputs": [],
   "source": []
  }
 ],
 "metadata": {
  "kernelspec": {
   "display_name": "Python 3 (ipykernel)",
   "language": "python",
   "name": "python3"
  },
  "language_info": {
   "codemirror_mode": {
    "name": "ipython",
    "version": 3
   },
   "file_extension": ".py",
   "mimetype": "text/x-python",
   "name": "python",
   "nbconvert_exporter": "python",
   "pygments_lexer": "ipython3",
   "version": "3.9.7"
  }
 },
 "nbformat": 4,
 "nbformat_minor": 5
}
