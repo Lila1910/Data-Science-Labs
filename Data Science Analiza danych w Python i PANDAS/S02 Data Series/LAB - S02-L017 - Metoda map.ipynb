{
 "cells": [
  {
   "cell_type": "code",
   "execution_count": 2,
   "id": "86ea9427",
   "metadata": {},
   "outputs": [],
   "source": [
    "import pandas as pd\n",
    "import random as rd"
   ]
  },
  {
   "cell_type": "code",
   "execution_count": 3,
   "id": "62a67828",
   "metadata": {},
   "outputs": [
    {
     "data": {
      "text/plain": [
       "{'PYT001': 'Airbus 320', 'PYT002': 'Boeing 737', 'PYT003': 'Airbus 321'}"
      ]
     },
     "execution_count": 3,
     "metadata": {},
     "output_type": "execute_result"
    }
   ],
   "source": [
    "planes={'PYT001':'Airbus 320','PYT002':'Boeing 737','PYT003':'Airbus 321'}\n",
    "planes"
   ]
  },
  {
   "cell_type": "code",
   "execution_count": 5,
   "id": "491d35a3",
   "metadata": {},
   "outputs": [
    {
     "data": {
      "text/plain": [
       "PYT001    Airbus 320\n",
       "PYT002    Boeing 737\n",
       "PYT003    Airbus 321\n",
       "dtype: object"
      ]
     },
     "execution_count": 5,
     "metadata": {},
     "output_type": "execute_result"
    }
   ],
   "source": [
    "aircrafts=pd.Series(planes)\n",
    "aircrafts"
   ]
  },
  {
   "cell_type": "code",
   "execution_count": 21,
   "id": "b6063604",
   "metadata": {},
   "outputs": [
    {
     "data": {
      "text/plain": [
       "['PYT001', 'PYT002', 'PYT003']"
      ]
     },
     "execution_count": 21,
     "metadata": {},
     "output_type": "execute_result"
    }
   ],
   "source": [
    "list(aircrafts.index)"
   ]
  },
  {
   "cell_type": "code",
   "execution_count": 23,
   "id": "bf4854b7",
   "metadata": {},
   "outputs": [
    {
     "data": {
      "text/plain": [
       "['PYT001', 'PYT003', 'PYT001', 'PYT002', 'PYT003']"
      ]
     },
     "execution_count": 23,
     "metadata": {},
     "output_type": "execute_result"
    }
   ],
   "source": [
    "flightsList=[]\n",
    "for i in range(100):\n",
    "    flightsList.append(rd.choice(list(aircrafts.index)))\n",
    "flightsList[:5]"
   ]
  },
  {
   "cell_type": "code",
   "execution_count": 24,
   "id": "4e69a3d9",
   "metadata": {},
   "outputs": [
    {
     "data": {
      "text/plain": [
       "0    PYT001\n",
       "1    PYT003\n",
       "2    PYT001\n",
       "3    PYT002\n",
       "4    PYT003\n",
       "dtype: object"
      ]
     },
     "execution_count": 24,
     "metadata": {},
     "output_type": "execute_result"
    }
   ],
   "source": [
    "flights=pd.Series(flightsList)\n",
    "flights.head()"
   ]
  },
  {
   "cell_type": "code",
   "execution_count": 26,
   "id": "47b47c53",
   "metadata": {},
   "outputs": [
    {
     "data": {
      "text/plain": [
       "0    Airbus 320\n",
       "1    Airbus 321\n",
       "2    Airbus 320\n",
       "3    Boeing 737\n",
       "4    Airbus 321\n",
       "dtype: object"
      ]
     },
     "execution_count": 26,
     "metadata": {},
     "output_type": "execute_result"
    }
   ],
   "source": [
    "flights_aircrafts=flights.map(aircrafts)\n",
    "flights_aircrafts.head()"
   ]
  },
  {
   "cell_type": "code",
   "execution_count": null,
   "id": "7adb18e7",
   "metadata": {},
   "outputs": [],
   "source": []
  }
 ],
 "metadata": {
  "kernelspec": {
   "display_name": "Python 3 (ipykernel)",
   "language": "python",
   "name": "python3"
  },
  "language_info": {
   "codemirror_mode": {
    "name": "ipython",
    "version": 3
   },
   "file_extension": ".py",
   "mimetype": "text/x-python",
   "name": "python",
   "nbconvert_exporter": "python",
   "pygments_lexer": "ipython3",
   "version": "3.9.7"
  }
 },
 "nbformat": 4,
 "nbformat_minor": 5
}
