{
 "cells": [
  {
   "cell_type": "code",
   "execution_count": 1,
   "id": "44e09622",
   "metadata": {},
   "outputs": [],
   "source": [
    "import pandas as pd"
   ]
  },
  {
   "cell_type": "code",
   "execution_count": 2,
   "id": "f748e99c",
   "metadata": {},
   "outputs": [
    {
     "data": {
      "text/plain": [
       "2     113750.0\n",
       "14    100000.0\n",
       "17    130000.0\n",
       "18     82500.0\n",
       "22    100764.0\n",
       "Name: Salary, dtype: float64"
      ]
     },
     "execution_count": 2,
     "metadata": {},
     "output_type": "execute_result"
    }
   ],
   "source": [
    "surveys=pd.read_csv(\"./course-files/StackOverflowDeveloperSurvey.csv\",squeeze=True,usecols=['Salary']).dropna()\n",
    "surveys.head()"
   ]
  },
  {
   "cell_type": "code",
   "execution_count": 3,
   "id": "0a91329c",
   "metadata": {},
   "outputs": [
    {
     "data": {
      "text/plain": [
       "12891"
      ]
     },
     "execution_count": 3,
     "metadata": {},
     "output_type": "execute_result"
    }
   ],
   "source": [
    "surveys.count()"
   ]
  },
  {
   "cell_type": "code",
   "execution_count": 4,
   "id": "8ba304a8",
   "metadata": {},
   "outputs": [
    {
     "data": {
      "text/plain": [
       "2     3412.50\n",
       "14    3000.00\n",
       "17    3900.00\n",
       "18    2475.00\n",
       "22    3022.92\n",
       "Name: Salary, dtype: float64"
      ]
     },
     "execution_count": 4,
     "metadata": {},
     "output_type": "execute_result"
    }
   ],
   "source": [
    "surveysIncrease=surveys*0.03\n",
    "surveysIncrease.head()"
   ]
  },
  {
   "cell_type": "code",
   "execution_count": 5,
   "id": "7416e7b6",
   "metadata": {},
   "outputs": [
    {
     "data": {
      "text/plain": [
       "2     117162.50\n",
       "14    103000.00\n",
       "17    133900.00\n",
       "18     84975.00\n",
       "22    103786.92\n",
       "Name: Salary, dtype: float64"
      ]
     },
     "execution_count": 5,
     "metadata": {},
     "output_type": "execute_result"
    }
   ],
   "source": [
    "surveysAfterIncrease=surveys+surveysIncrease\n",
    "surveysAfterIncrease.head()"
   ]
  },
  {
   "cell_type": "code",
   "execution_count": 6,
   "id": "80358c4c",
   "metadata": {},
   "outputs": [
    {
     "data": {
      "text/plain": [
       "0             1 - 2 hours\n",
       "1         30 - 59 minutes\n",
       "3    Less than 30 minutes\n",
       "4             1 - 2 hours\n",
       "5         30 - 59 minutes\n",
       "Name: HoursOutside, dtype: object"
      ]
     },
     "execution_count": 6,
     "metadata": {},
     "output_type": "execute_result"
    }
   ],
   "source": [
    "surveysTime=pd.read_csv(\"./course-files/StackOverflowDeveloperSurvey2018.csv\",usecols=['HoursOutside'],low_memory=False,squeeze=True).dropna()\n",
    "surveysTime.head()"
   ]
  },
  {
   "cell_type": "code",
   "execution_count": 7,
   "id": "4278c605",
   "metadata": {},
   "outputs": [
    {
     "data": {
      "text/plain": [
       "1 - 2 hours             27788\n",
       "30 - 59 minutes         24002\n",
       "Less than 30 minutes    11223\n",
       "3 - 4 hours              7186\n",
       "Over 4 hours             1825\n",
       "Name: HoursOutside, dtype: int64"
      ]
     },
     "execution_count": 7,
     "metadata": {},
     "output_type": "execute_result"
    }
   ],
   "source": [
    "surveysTime.value_counts()"
   ]
  },
  {
   "cell_type": "code",
   "execution_count": 8,
   "id": "614bece3",
   "metadata": {},
   "outputs": [
    {
     "data": {
      "text/plain": [
       "0             1 - 2 hours\n",
       "1         30 - 59 minutes\n",
       "3    less than 30 minutes\n",
       "4             1 - 2 hours\n",
       "5         30 - 59 minutes\n",
       "Name: HoursOutside, dtype: object"
      ]
     },
     "execution_count": 8,
     "metadata": {},
     "output_type": "execute_result"
    }
   ],
   "source": [
    "surveysTime=surveysTime.str.lower()\n",
    "surveysTime.head()"
   ]
  },
  {
   "cell_type": "code",
   "execution_count": 9,
   "id": "cb7d1055",
   "metadata": {},
   "outputs": [
    {
     "data": {
      "text/plain": [
       "0             1 - 2 HOURS\n",
       "1         30 - 59 MINUTES\n",
       "3    LESS THAN 30 MINUTES\n",
       "4             1 - 2 HOURS\n",
       "5         30 - 59 MINUTES\n",
       "Name: HoursOutside, dtype: object"
      ]
     },
     "execution_count": 9,
     "metadata": {},
     "output_type": "execute_result"
    }
   ],
   "source": [
    "surveysTime=surveysTime.apply(lambda x: x.upper())\n",
    "surveysTime.head()"
   ]
  },
  {
   "cell_type": "code",
   "execution_count": 12,
   "id": "28d7375e",
   "metadata": {},
   "outputs": [],
   "source": [
    "def ChangeDescription(x):\n",
    "    if x=='LESS THAN 30 MINUTES':\n",
    "        return 'LESS THAN HALF HOUR'\n",
    "    else:\n",
    "        return x"
   ]
  },
  {
   "cell_type": "code",
   "execution_count": 13,
   "id": "20ece1a3",
   "metadata": {},
   "outputs": [
    {
     "data": {
      "text/plain": [
       "'hello'"
      ]
     },
     "execution_count": 13,
     "metadata": {},
     "output_type": "execute_result"
    }
   ],
   "source": [
    "ChangeDescription('hello')"
   ]
  },
  {
   "cell_type": "code",
   "execution_count": 14,
   "id": "6a4ce665",
   "metadata": {},
   "outputs": [
    {
     "data": {
      "text/plain": [
       "'LESS THAN HALF HOUR'"
      ]
     },
     "execution_count": 14,
     "metadata": {},
     "output_type": "execute_result"
    }
   ],
   "source": [
    "ChangeDescription('LESS THAN 30 MINUTES')"
   ]
  },
  {
   "cell_type": "code",
   "execution_count": 16,
   "id": "c67b958d",
   "metadata": {},
   "outputs": [
    {
     "data": {
      "text/plain": [
       "0            1 - 2 HOURS\n",
       "1        30 - 59 MINUTES\n",
       "3    LESS THAN HALF HOUR\n",
       "4            1 - 2 HOURS\n",
       "5        30 - 59 MINUTES\n",
       "Name: HoursOutside, dtype: object"
      ]
     },
     "execution_count": 16,
     "metadata": {},
     "output_type": "execute_result"
    }
   ],
   "source": [
    "surveysTime=surveysTime.apply(ChangeDescription)\n",
    "surveysTime.head()"
   ]
  },
  {
   "cell_type": "code",
   "execution_count": null,
   "id": "fe8ae9b5",
   "metadata": {},
   "outputs": [],
   "source": []
  }
 ],
 "metadata": {
  "kernelspec": {
   "display_name": "Python 3 (ipykernel)",
   "language": "python",
   "name": "python3"
  },
  "language_info": {
   "codemirror_mode": {
    "name": "ipython",
    "version": 3
   },
   "file_extension": ".py",
   "mimetype": "text/x-python",
   "name": "python",
   "nbconvert_exporter": "python",
   "pygments_lexer": "ipython3",
   "version": "3.9.7"
  }
 },
 "nbformat": 4,
 "nbformat_minor": 5
}
