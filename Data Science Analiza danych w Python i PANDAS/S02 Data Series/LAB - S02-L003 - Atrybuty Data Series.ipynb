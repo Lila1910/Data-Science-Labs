{
 "cells": [
  {
   "cell_type": "code",
   "execution_count": 1,
   "id": "e04afa77",
   "metadata": {},
   "outputs": [],
   "source": [
    "import pandas as pd\n",
    "import numpy as np\n",
    "import matplotlib.pyplot as plt\n",
    "import math as math"
   ]
  },
  {
   "cell_type": "code",
   "execution_count": 2,
   "id": "32e0c513",
   "metadata": {},
   "outputs": [],
   "source": [
    "import random as rnd\n",
    "dataAsFloatList=list()\n",
    "for i in range(100000):\n",
    "    dataAsFloatList.append(i*rnd.random())\n",
    "dataAsFloatSeries=pd.Series(dataAsFloatList)"
   ]
  },
  {
   "cell_type": "code",
   "execution_count": 3,
   "id": "b7dd210d",
   "metadata": {},
   "outputs": [
    {
     "data": {
      "text/plain": [
       "100000"
      ]
     },
     "execution_count": 3,
     "metadata": {},
     "output_type": "execute_result"
    }
   ],
   "source": [
    "dataAsFloatSeries.size"
   ]
  },
  {
   "cell_type": "code",
   "execution_count": 4,
   "id": "c463da49",
   "metadata": {},
   "outputs": [
    {
     "data": {
      "text/plain": [
       "800000"
      ]
     },
     "execution_count": 4,
     "metadata": {},
     "output_type": "execute_result"
    }
   ],
   "source": [
    "dataAsFloatSeries.nbytes"
   ]
  },
  {
   "cell_type": "code",
   "execution_count": 5,
   "id": "c4c283c2",
   "metadata": {},
   "outputs": [
    {
     "data": {
      "text/plain": [
       "(100000,)"
      ]
     },
     "execution_count": 5,
     "metadata": {},
     "output_type": "execute_result"
    }
   ],
   "source": [
    "dataAsFloatSeries.shape"
   ]
  },
  {
   "cell_type": "code",
   "execution_count": 6,
   "id": "825ed1e2",
   "metadata": {},
   "outputs": [
    {
     "data": {
      "text/plain": [
       "[RangeIndex(start=0, stop=100000, step=1)]"
      ]
     },
     "execution_count": 6,
     "metadata": {},
     "output_type": "execute_result"
    }
   ],
   "source": [
    "dataAsFloatSeries.axes"
   ]
  },
  {
   "cell_type": "code",
   "execution_count": 7,
   "id": "ea93b7c4",
   "metadata": {},
   "outputs": [
    {
     "data": {
      "text/plain": [
       "dtype('float64')"
      ]
     },
     "execution_count": 7,
     "metadata": {},
     "output_type": "execute_result"
    }
   ],
   "source": [
    "dataAsFloatSeries.dtype"
   ]
  },
  {
   "cell_type": "code",
   "execution_count": 8,
   "id": "bd79b77c",
   "metadata": {},
   "outputs": [
    {
     "data": {
      "text/plain": [
       "RangeIndex(start=0, stop=100000, step=1)"
      ]
     },
     "execution_count": 8,
     "metadata": {},
     "output_type": "execute_result"
    }
   ],
   "source": [
    "dataAsFloatSeries.index"
   ]
  },
  {
   "cell_type": "code",
   "execution_count": 9,
   "id": "25602155",
   "metadata": {},
   "outputs": [
    {
     "data": {
      "text/plain": [
       "True"
      ]
     },
     "execution_count": 9,
     "metadata": {},
     "output_type": "execute_result"
    }
   ],
   "source": [
    "dataAsFloatSeries.is_unique"
   ]
  },
  {
   "cell_type": "code",
   "execution_count": 10,
   "id": "a875c50d",
   "metadata": {},
   "outputs": [
    {
     "data": {
      "text/plain": [
       "False"
      ]
     },
     "execution_count": 10,
     "metadata": {},
     "output_type": "execute_result"
    }
   ],
   "source": [
    "dataAsFloatSeries.is_monotonic"
   ]
  },
  {
   "cell_type": "code",
   "execution_count": 13,
   "id": "39c99c6f",
   "metadata": {},
   "outputs": [],
   "source": [
    "dataAsStringList=list()\n",
    "for i in range(100000):\n",
    "    dataAsStringList.append(str(i*rnd.random()))\n",
    "dataAsStringSeries=pd.Series(dataAsStringList)"
   ]
  },
  {
   "cell_type": "code",
   "execution_count": 16,
   "id": "5f9aaedb",
   "metadata": {},
   "outputs": [
    {
     "data": {
      "text/plain": [
       "100000"
      ]
     },
     "execution_count": 16,
     "metadata": {},
     "output_type": "execute_result"
    }
   ],
   "source": [
    "dataAsStringSeries.size"
   ]
  },
  {
   "cell_type": "code",
   "execution_count": 17,
   "id": "482ed6bb",
   "metadata": {},
   "outputs": [
    {
     "data": {
      "text/plain": [
       "800000"
      ]
     },
     "execution_count": 17,
     "metadata": {},
     "output_type": "execute_result"
    }
   ],
   "source": [
    "dataAsStringSeries.nbytes"
   ]
  },
  {
   "cell_type": "markdown",
   "id": "2bfd2e08",
   "metadata": {},
   "source": [
    "stringi i floaty ważą tyle samo, bo metoda *nbytes* jest szybka, ale **niedokładna**"
   ]
  },
  {
   "cell_type": "code",
   "execution_count": 18,
   "id": "fdce1399",
   "metadata": {},
   "outputs": [
    {
     "data": {
      "text/plain": [
       "dtype('O')"
      ]
     },
     "execution_count": 18,
     "metadata": {},
     "output_type": "execute_result"
    }
   ],
   "source": [
    "dataAsStringSeries.dtype"
   ]
  },
  {
   "cell_type": "code",
   "execution_count": 19,
   "id": "0e195e3c",
   "metadata": {},
   "outputs": [
    {
     "data": {
      "text/plain": [
       "800128"
      ]
     },
     "execution_count": 19,
     "metadata": {},
     "output_type": "execute_result"
    }
   ],
   "source": [
    "dataAsFloatSeries.memory_usage(deep=True)"
   ]
  },
  {
   "cell_type": "code",
   "execution_count": 20,
   "id": "cd86bd7d",
   "metadata": {},
   "outputs": [
    {
     "data": {
      "text/plain": [
       "7434632"
      ]
     },
     "execution_count": 20,
     "metadata": {},
     "output_type": "execute_result"
    }
   ],
   "source": [
    "dataAsStringSeries.memory_usage(deep=True)"
   ]
  },
  {
   "cell_type": "code",
   "execution_count": null,
   "id": "8cf1c0c3",
   "metadata": {},
   "outputs": [],
   "source": []
  }
 ],
 "metadata": {
  "kernelspec": {
   "display_name": "Python 3 (ipykernel)",
   "language": "python",
   "name": "python3"
  },
  "language_info": {
   "codemirror_mode": {
    "name": "ipython",
    "version": 3
   },
   "file_extension": ".py",
   "mimetype": "text/x-python",
   "name": "python",
   "nbconvert_exporter": "python",
   "pygments_lexer": "ipython3",
   "version": "3.9.7"
  }
 },
 "nbformat": 4,
 "nbformat_minor": 5
}
