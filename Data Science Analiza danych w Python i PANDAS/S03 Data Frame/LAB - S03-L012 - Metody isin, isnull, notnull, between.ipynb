{
 "cells": [
  {
   "cell_type": "code",
   "execution_count": 1,
   "id": "47cab971",
   "metadata": {},
   "outputs": [
    {
     "data": {
      "text/html": [
       "<div>\n",
       "<style scoped>\n",
       "    .dataframe tbody tr th:only-of-type {\n",
       "        vertical-align: middle;\n",
       "    }\n",
       "\n",
       "    .dataframe tbody tr th {\n",
       "        vertical-align: top;\n",
       "    }\n",
       "\n",
       "    .dataframe thead th {\n",
       "        text-align: right;\n",
       "    }\n",
       "</style>\n",
       "<table border=\"1\" class=\"dataframe\">\n",
       "  <thead>\n",
       "    <tr style=\"text-align: right;\">\n",
       "      <th></th>\n",
       "      <th>Year</th>\n",
       "      <th>Make</th>\n",
       "      <th>Model</th>\n",
       "      <th>Class</th>\n",
       "      <th>Fuel Type</th>\n",
       "      <th>Combined MPG (FT1)</th>\n",
       "      <th>Start Stop Technology</th>\n",
       "    </tr>\n",
       "    <tr>\n",
       "      <th>Vehicle ID</th>\n",
       "      <th></th>\n",
       "      <th></th>\n",
       "      <th></th>\n",
       "      <th></th>\n",
       "      <th></th>\n",
       "      <th></th>\n",
       "      <th></th>\n",
       "    </tr>\n",
       "  </thead>\n",
       "  <tbody>\n",
       "    <tr>\n",
       "      <th>26587</th>\n",
       "      <td>1984</td>\n",
       "      <td>Alfa Romeo</td>\n",
       "      <td>GT V6 2.5</td>\n",
       "      <td>Minicompact Cars</td>\n",
       "      <td>Regular</td>\n",
       "      <td>20.0</td>\n",
       "      <td>NaN</td>\n",
       "    </tr>\n",
       "    <tr>\n",
       "      <th>27705</th>\n",
       "      <td>1984</td>\n",
       "      <td>Alfa Romeo</td>\n",
       "      <td>GT V6 2.5</td>\n",
       "      <td>Minicompact Cars</td>\n",
       "      <td>Regular</td>\n",
       "      <td>20.0</td>\n",
       "      <td>NaN</td>\n",
       "    </tr>\n",
       "    <tr>\n",
       "      <th>26561</th>\n",
       "      <td>1984</td>\n",
       "      <td>Alfa Romeo</td>\n",
       "      <td>Spider Veloce 2000</td>\n",
       "      <td>Two Seaters</td>\n",
       "      <td>Regular</td>\n",
       "      <td>21.0</td>\n",
       "      <td>NaN</td>\n",
       "    </tr>\n",
       "    <tr>\n",
       "      <th>27681</th>\n",
       "      <td>1984</td>\n",
       "      <td>Alfa Romeo</td>\n",
       "      <td>Spider Veloce 2000</td>\n",
       "      <td>Two Seaters</td>\n",
       "      <td>Regular</td>\n",
       "      <td>21.0</td>\n",
       "      <td>NaN</td>\n",
       "    </tr>\n",
       "    <tr>\n",
       "      <th>27550</th>\n",
       "      <td>1984</td>\n",
       "      <td>AM General</td>\n",
       "      <td>DJ Po Vehicle 2WD</td>\n",
       "      <td>Special Purpose Vehicle 2WD</td>\n",
       "      <td>Regular</td>\n",
       "      <td>17.0</td>\n",
       "      <td>NaN</td>\n",
       "    </tr>\n",
       "  </tbody>\n",
       "</table>\n",
       "</div>"
      ],
      "text/plain": [
       "            Year        Make               Model                        Class  \\\n",
       "Vehicle ID                                                                      \n",
       "26587       1984  Alfa Romeo           GT V6 2.5             Minicompact Cars   \n",
       "27705       1984  Alfa Romeo           GT V6 2.5             Minicompact Cars   \n",
       "26561       1984  Alfa Romeo  Spider Veloce 2000                  Two Seaters   \n",
       "27681       1984  Alfa Romeo  Spider Veloce 2000                  Two Seaters   \n",
       "27550       1984  AM General   DJ Po Vehicle 2WD  Special Purpose Vehicle 2WD   \n",
       "\n",
       "           Fuel Type  Combined MPG (FT1) Start Stop Technology  \n",
       "Vehicle ID                                                      \n",
       "26587        Regular                20.0                   NaN  \n",
       "27705        Regular                20.0                   NaN  \n",
       "26561        Regular                21.0                   NaN  \n",
       "27681        Regular                21.0                   NaN  \n",
       "27550        Regular                17.0                   NaN  "
      ]
     },
     "execution_count": 1,
     "metadata": {},
     "output_type": "execute_result"
    }
   ],
   "source": [
    "import pandas as pd\n",
    "import numpy as np\n",
    "fuel=pd.read_csv(\"./course-files/fuel.csv\",low_memory=False,usecols=['Vehicle ID','Year','Make','Model','Class','Fuel Type','Combined MPG (FT1)','Start Stop Technology'],index_col='Vehicle ID')\n",
    "fuel.head()"
   ]
  },
  {
   "cell_type": "code",
   "execution_count": 3,
   "id": "2ac54c1a",
   "metadata": {},
   "outputs": [
    {
     "data": {
      "text/plain": [
       "Vehicle ID\n",
       "26587    False\n",
       "27705    False\n",
       "26561    False\n",
       "27681    False\n",
       "27550    False\n",
       "Name: Make, dtype: bool"
      ]
     },
     "execution_count": 3,
     "metadata": {},
     "output_type": "execute_result"
    }
   ],
   "source": [
    "listOfCars=['Reanult','Toyota','Ford']\n",
    "isInList=fuel['Make'].isin(listOfCars)\n",
    "isInList.head()"
   ]
  },
  {
   "cell_type": "code",
   "execution_count": 10,
   "id": "1dde3ea5",
   "metadata": {},
   "outputs": [
    {
     "data": {
      "text/html": [
       "<div>\n",
       "<style scoped>\n",
       "    .dataframe tbody tr th:only-of-type {\n",
       "        vertical-align: middle;\n",
       "    }\n",
       "\n",
       "    .dataframe tbody tr th {\n",
       "        vertical-align: top;\n",
       "    }\n",
       "\n",
       "    .dataframe thead th {\n",
       "        text-align: right;\n",
       "    }\n",
       "</style>\n",
       "<table border=\"1\" class=\"dataframe\">\n",
       "  <thead>\n",
       "    <tr style=\"text-align: right;\">\n",
       "      <th></th>\n",
       "      <th>Year</th>\n",
       "      <th>Make</th>\n",
       "      <th>Model</th>\n",
       "      <th>Class</th>\n",
       "      <th>Fuel Type</th>\n",
       "      <th>Combined MPG (FT1)</th>\n",
       "      <th>Start Stop Technology</th>\n",
       "    </tr>\n",
       "    <tr>\n",
       "      <th>Vehicle ID</th>\n",
       "      <th></th>\n",
       "      <th></th>\n",
       "      <th></th>\n",
       "      <th></th>\n",
       "      <th></th>\n",
       "      <th></th>\n",
       "      <th></th>\n",
       "    </tr>\n",
       "  </thead>\n",
       "  <tbody>\n",
       "    <tr>\n",
       "      <th>27613</th>\n",
       "      <td>1984</td>\n",
       "      <td>Ford</td>\n",
       "      <td>Bronco 4WD</td>\n",
       "      <td>Special Purpose Vehicle 4WD</td>\n",
       "      <td>Regular</td>\n",
       "      <td>13.0</td>\n",
       "      <td>NaN</td>\n",
       "    </tr>\n",
       "    <tr>\n",
       "      <th>27616</th>\n",
       "      <td>1984</td>\n",
       "      <td>Ford</td>\n",
       "      <td>Bronco 4WD</td>\n",
       "      <td>Special Purpose Vehicle 4WD</td>\n",
       "      <td>Regular</td>\n",
       "      <td>11.0</td>\n",
       "      <td>NaN</td>\n",
       "    </tr>\n",
       "    <tr>\n",
       "      <th>27619</th>\n",
       "      <td>1984</td>\n",
       "      <td>Ford</td>\n",
       "      <td>Bronco 4WD</td>\n",
       "      <td>Special Purpose Vehicle 4WD</td>\n",
       "      <td>Regular</td>\n",
       "      <td>10.0</td>\n",
       "      <td>NaN</td>\n",
       "    </tr>\n",
       "    <tr>\n",
       "      <th>27622</th>\n",
       "      <td>1984</td>\n",
       "      <td>Ford</td>\n",
       "      <td>Bronco 4WD</td>\n",
       "      <td>Special Purpose Vehicle 4WD</td>\n",
       "      <td>Regular</td>\n",
       "      <td>11.0</td>\n",
       "      <td>NaN</td>\n",
       "    </tr>\n",
       "    <tr>\n",
       "      <th>28472</th>\n",
       "      <td>1984</td>\n",
       "      <td>Ford</td>\n",
       "      <td>Bronco 4WD</td>\n",
       "      <td>Special Purpose Vehicle 4WD</td>\n",
       "      <td>Regular</td>\n",
       "      <td>13.0</td>\n",
       "      <td>NaN</td>\n",
       "    </tr>\n",
       "  </tbody>\n",
       "</table>\n",
       "</div>"
      ],
      "text/plain": [
       "            Year  Make       Model                        Class Fuel Type  \\\n",
       "Vehicle ID                                                                  \n",
       "27613       1984  Ford  Bronco 4WD  Special Purpose Vehicle 4WD   Regular   \n",
       "27616       1984  Ford  Bronco 4WD  Special Purpose Vehicle 4WD   Regular   \n",
       "27619       1984  Ford  Bronco 4WD  Special Purpose Vehicle 4WD   Regular   \n",
       "27622       1984  Ford  Bronco 4WD  Special Purpose Vehicle 4WD   Regular   \n",
       "28472       1984  Ford  Bronco 4WD  Special Purpose Vehicle 4WD   Regular   \n",
       "\n",
       "            Combined MPG (FT1) Start Stop Technology  \n",
       "Vehicle ID                                            \n",
       "27613                     13.0                   NaN  \n",
       "27616                     11.0                   NaN  \n",
       "27619                     10.0                   NaN  \n",
       "27622                     11.0                   NaN  \n",
       "28472                     13.0                   NaN  "
      ]
     },
     "execution_count": 10,
     "metadata": {},
     "output_type": "execute_result"
    }
   ],
   "source": [
    "fuel[isInList].head()"
   ]
  },
  {
   "cell_type": "code",
   "execution_count": 7,
   "id": "37042870",
   "metadata": {},
   "outputs": [
    {
     "data": {
      "text/plain": [
       "Vehicle ID\n",
       "26587    True\n",
       "27705    True\n",
       "26561    True\n",
       "27681    True\n",
       "27550    True\n",
       "Name: Start Stop Technology, dtype: bool"
      ]
     },
     "execution_count": 7,
     "metadata": {},
     "output_type": "execute_result"
    }
   ],
   "source": [
    "isNoStartStopDefined=fuel['Start Stop Technology'].isnull()\n",
    "isNoStartStopDefined.head()"
   ]
  },
  {
   "cell_type": "code",
   "execution_count": 9,
   "id": "80b4b942",
   "metadata": {},
   "outputs": [
    {
     "data": {
      "text/html": [
       "<div>\n",
       "<style scoped>\n",
       "    .dataframe tbody tr th:only-of-type {\n",
       "        vertical-align: middle;\n",
       "    }\n",
       "\n",
       "    .dataframe tbody tr th {\n",
       "        vertical-align: top;\n",
       "    }\n",
       "\n",
       "    .dataframe thead th {\n",
       "        text-align: right;\n",
       "    }\n",
       "</style>\n",
       "<table border=\"1\" class=\"dataframe\">\n",
       "  <thead>\n",
       "    <tr style=\"text-align: right;\">\n",
       "      <th></th>\n",
       "      <th>Year</th>\n",
       "      <th>Make</th>\n",
       "      <th>Model</th>\n",
       "      <th>Class</th>\n",
       "      <th>Fuel Type</th>\n",
       "      <th>Combined MPG (FT1)</th>\n",
       "      <th>Start Stop Technology</th>\n",
       "    </tr>\n",
       "    <tr>\n",
       "      <th>Vehicle ID</th>\n",
       "      <th></th>\n",
       "      <th></th>\n",
       "      <th></th>\n",
       "      <th></th>\n",
       "      <th></th>\n",
       "      <th></th>\n",
       "      <th></th>\n",
       "    </tr>\n",
       "  </thead>\n",
       "  <tbody>\n",
       "    <tr>\n",
       "      <th>26587</th>\n",
       "      <td>1984</td>\n",
       "      <td>Alfa Romeo</td>\n",
       "      <td>GT V6 2.5</td>\n",
       "      <td>Minicompact Cars</td>\n",
       "      <td>Regular</td>\n",
       "      <td>20.0</td>\n",
       "      <td>NaN</td>\n",
       "    </tr>\n",
       "    <tr>\n",
       "      <th>27705</th>\n",
       "      <td>1984</td>\n",
       "      <td>Alfa Romeo</td>\n",
       "      <td>GT V6 2.5</td>\n",
       "      <td>Minicompact Cars</td>\n",
       "      <td>Regular</td>\n",
       "      <td>20.0</td>\n",
       "      <td>NaN</td>\n",
       "    </tr>\n",
       "    <tr>\n",
       "      <th>26561</th>\n",
       "      <td>1984</td>\n",
       "      <td>Alfa Romeo</td>\n",
       "      <td>Spider Veloce 2000</td>\n",
       "      <td>Two Seaters</td>\n",
       "      <td>Regular</td>\n",
       "      <td>21.0</td>\n",
       "      <td>NaN</td>\n",
       "    </tr>\n",
       "    <tr>\n",
       "      <th>27681</th>\n",
       "      <td>1984</td>\n",
       "      <td>Alfa Romeo</td>\n",
       "      <td>Spider Veloce 2000</td>\n",
       "      <td>Two Seaters</td>\n",
       "      <td>Regular</td>\n",
       "      <td>21.0</td>\n",
       "      <td>NaN</td>\n",
       "    </tr>\n",
       "    <tr>\n",
       "      <th>27550</th>\n",
       "      <td>1984</td>\n",
       "      <td>AM General</td>\n",
       "      <td>DJ Po Vehicle 2WD</td>\n",
       "      <td>Special Purpose Vehicle 2WD</td>\n",
       "      <td>Regular</td>\n",
       "      <td>17.0</td>\n",
       "      <td>NaN</td>\n",
       "    </tr>\n",
       "  </tbody>\n",
       "</table>\n",
       "</div>"
      ],
      "text/plain": [
       "            Year        Make               Model                        Class  \\\n",
       "Vehicle ID                                                                      \n",
       "26587       1984  Alfa Romeo           GT V6 2.5             Minicompact Cars   \n",
       "27705       1984  Alfa Romeo           GT V6 2.5             Minicompact Cars   \n",
       "26561       1984  Alfa Romeo  Spider Veloce 2000                  Two Seaters   \n",
       "27681       1984  Alfa Romeo  Spider Veloce 2000                  Two Seaters   \n",
       "27550       1984  AM General   DJ Po Vehicle 2WD  Special Purpose Vehicle 2WD   \n",
       "\n",
       "           Fuel Type  Combined MPG (FT1) Start Stop Technology  \n",
       "Vehicle ID                                                      \n",
       "26587        Regular                20.0                   NaN  \n",
       "27705        Regular                20.0                   NaN  \n",
       "26561        Regular                21.0                   NaN  \n",
       "27681        Regular                21.0                   NaN  \n",
       "27550        Regular                17.0                   NaN  "
      ]
     },
     "execution_count": 9,
     "metadata": {},
     "output_type": "execute_result"
    }
   ],
   "source": [
    "fuel[isNoStartStopDefined].head()"
   ]
  },
  {
   "cell_type": "code",
   "execution_count": 12,
   "id": "5574ceb9",
   "metadata": {},
   "outputs": [
    {
     "data": {
      "text/plain": [
       "Vehicle ID\n",
       "26587    False\n",
       "27705    False\n",
       "26561    False\n",
       "27681    False\n",
       "27550    False\n",
       "Name: Start Stop Technology, dtype: bool"
      ]
     },
     "execution_count": 12,
     "metadata": {},
     "output_type": "execute_result"
    }
   ],
   "source": [
    "isStartStopDefined=fuel['Start Stop Technology'].notnull()\n",
    "isStartStopDefined.head()"
   ]
  },
  {
   "cell_type": "code",
   "execution_count": 13,
   "id": "07303372",
   "metadata": {},
   "outputs": [
    {
     "data": {
      "text/html": [
       "<div>\n",
       "<style scoped>\n",
       "    .dataframe tbody tr th:only-of-type {\n",
       "        vertical-align: middle;\n",
       "    }\n",
       "\n",
       "    .dataframe tbody tr th {\n",
       "        vertical-align: top;\n",
       "    }\n",
       "\n",
       "    .dataframe thead th {\n",
       "        text-align: right;\n",
       "    }\n",
       "</style>\n",
       "<table border=\"1\" class=\"dataframe\">\n",
       "  <thead>\n",
       "    <tr style=\"text-align: right;\">\n",
       "      <th></th>\n",
       "      <th>Year</th>\n",
       "      <th>Make</th>\n",
       "      <th>Model</th>\n",
       "      <th>Class</th>\n",
       "      <th>Fuel Type</th>\n",
       "      <th>Combined MPG (FT1)</th>\n",
       "      <th>Start Stop Technology</th>\n",
       "    </tr>\n",
       "    <tr>\n",
       "      <th>Vehicle ID</th>\n",
       "      <th></th>\n",
       "      <th></th>\n",
       "      <th></th>\n",
       "      <th></th>\n",
       "      <th></th>\n",
       "      <th></th>\n",
       "      <th></th>\n",
       "    </tr>\n",
       "  </thead>\n",
       "  <tbody>\n",
       "    <tr>\n",
       "      <th>30976</th>\n",
       "      <td>1998</td>\n",
       "      <td>Chevrolet</td>\n",
       "      <td>S10 Electric</td>\n",
       "      <td>Small Pickup Trucks 2WD</td>\n",
       "      <td>Electricity</td>\n",
       "      <td>55.0</td>\n",
       "      <td>N</td>\n",
       "    </tr>\n",
       "    <tr>\n",
       "      <th>30977</th>\n",
       "      <td>1998</td>\n",
       "      <td>Chevrolet</td>\n",
       "      <td>S10 Electric</td>\n",
       "      <td>Small Pickup Trucks 2WD</td>\n",
       "      <td>Electricity</td>\n",
       "      <td>28.0</td>\n",
       "      <td>N</td>\n",
       "    </tr>\n",
       "    <tr>\n",
       "      <th>30975</th>\n",
       "      <td>1998</td>\n",
       "      <td>Honda</td>\n",
       "      <td>EV Plus</td>\n",
       "      <td>Compact Cars</td>\n",
       "      <td>Electricity</td>\n",
       "      <td>48.0</td>\n",
       "      <td>N</td>\n",
       "    </tr>\n",
       "    <tr>\n",
       "      <th>30973</th>\n",
       "      <td>1999</td>\n",
       "      <td>Dodge</td>\n",
       "      <td>Caravan/Grand Caravan 2WD</td>\n",
       "      <td>Minivan - 2WD</td>\n",
       "      <td>Electricity</td>\n",
       "      <td>35.0</td>\n",
       "      <td>N</td>\n",
       "    </tr>\n",
       "    <tr>\n",
       "      <th>30971</th>\n",
       "      <td>1999</td>\n",
       "      <td>Ford</td>\n",
       "      <td>Ranger Pickup 2WD</td>\n",
       "      <td>Standard Pickup Trucks 2WD</td>\n",
       "      <td>Electricity</td>\n",
       "      <td>58.0</td>\n",
       "      <td>N</td>\n",
       "    </tr>\n",
       "  </tbody>\n",
       "</table>\n",
       "</div>"
      ],
      "text/plain": [
       "            Year       Make                      Model  \\\n",
       "Vehicle ID                                               \n",
       "30976       1998  Chevrolet               S10 Electric   \n",
       "30977       1998  Chevrolet               S10 Electric   \n",
       "30975       1998      Honda                    EV Plus   \n",
       "30973       1999      Dodge  Caravan/Grand Caravan 2WD   \n",
       "30971       1999       Ford          Ranger Pickup 2WD   \n",
       "\n",
       "                                 Class    Fuel Type  Combined MPG (FT1)  \\\n",
       "Vehicle ID                                                                \n",
       "30976          Small Pickup Trucks 2WD  Electricity                55.0   \n",
       "30977          Small Pickup Trucks 2WD  Electricity                28.0   \n",
       "30975                     Compact Cars  Electricity                48.0   \n",
       "30973                    Minivan - 2WD  Electricity                35.0   \n",
       "30971       Standard Pickup Trucks 2WD  Electricity                58.0   \n",
       "\n",
       "           Start Stop Technology  \n",
       "Vehicle ID                        \n",
       "30976                          N  \n",
       "30977                          N  \n",
       "30975                          N  \n",
       "30973                          N  \n",
       "30971                          N  "
      ]
     },
     "execution_count": 13,
     "metadata": {},
     "output_type": "execute_result"
    }
   ],
   "source": [
    "fuel[isStartStopDefined].head()"
   ]
  },
  {
   "cell_type": "code",
   "execution_count": 14,
   "id": "85d9e139",
   "metadata": {},
   "outputs": [
    {
     "data": {
      "text/plain": [
       "Vehicle ID\n",
       "26587    False\n",
       "27705    False\n",
       "26561    False\n",
       "27681    False\n",
       "27550    False\n",
       "Name: Combined MPG (FT1), dtype: bool"
      ]
     },
     "execution_count": 14,
     "metadata": {},
     "output_type": "execute_result"
    }
   ],
   "source": [
    "mpg50_60=fuel['Combined MPG (FT1)'].between(50,60)\n",
    "mpg50_60.head()"
   ]
  },
  {
   "cell_type": "code",
   "execution_count": 15,
   "id": "5cb9c82a",
   "metadata": {},
   "outputs": [
    {
     "data": {
      "text/html": [
       "<div>\n",
       "<style scoped>\n",
       "    .dataframe tbody tr th:only-of-type {\n",
       "        vertical-align: middle;\n",
       "    }\n",
       "\n",
       "    .dataframe tbody tr th {\n",
       "        vertical-align: top;\n",
       "    }\n",
       "\n",
       "    .dataframe thead th {\n",
       "        text-align: right;\n",
       "    }\n",
       "</style>\n",
       "<table border=\"1\" class=\"dataframe\">\n",
       "  <thead>\n",
       "    <tr style=\"text-align: right;\">\n",
       "      <th></th>\n",
       "      <th>Year</th>\n",
       "      <th>Make</th>\n",
       "      <th>Model</th>\n",
       "      <th>Class</th>\n",
       "      <th>Fuel Type</th>\n",
       "      <th>Combined MPG (FT1)</th>\n",
       "      <th>Start Stop Technology</th>\n",
       "    </tr>\n",
       "    <tr>\n",
       "      <th>Vehicle ID</th>\n",
       "      <th></th>\n",
       "      <th></th>\n",
       "      <th></th>\n",
       "      <th></th>\n",
       "      <th></th>\n",
       "      <th></th>\n",
       "      <th></th>\n",
       "    </tr>\n",
       "  </thead>\n",
       "  <tbody>\n",
       "    <tr>\n",
       "      <th>30976</th>\n",
       "      <td>1998</td>\n",
       "      <td>Chevrolet</td>\n",
       "      <td>S10 Electric</td>\n",
       "      <td>Small Pickup Trucks 2WD</td>\n",
       "      <td>Electricity</td>\n",
       "      <td>55.0</td>\n",
       "      <td>N</td>\n",
       "    </tr>\n",
       "    <tr>\n",
       "      <th>30971</th>\n",
       "      <td>1999</td>\n",
       "      <td>Ford</td>\n",
       "      <td>Ranger Pickup 2WD</td>\n",
       "      <td>Standard Pickup Trucks 2WD</td>\n",
       "      <td>Electricity</td>\n",
       "      <td>58.0</td>\n",
       "      <td>N</td>\n",
       "    </tr>\n",
       "    <tr>\n",
       "      <th>30966</th>\n",
       "      <td>2000</td>\n",
       "      <td>Ford</td>\n",
       "      <td>Ranger Pickup 2WD</td>\n",
       "      <td>Standard Pickup Trucks 2WD</td>\n",
       "      <td>Electricity</td>\n",
       "      <td>58.0</td>\n",
       "      <td>N</td>\n",
       "    </tr>\n",
       "    <tr>\n",
       "      <th>30967</th>\n",
       "      <td>2000</td>\n",
       "      <td>Ford</td>\n",
       "      <td>Ranger Pickup 2WD</td>\n",
       "      <td>Standard Pickup Trucks 2WD</td>\n",
       "      <td>Electricity</td>\n",
       "      <td>56.0</td>\n",
       "      <td>N</td>\n",
       "    </tr>\n",
       "    <tr>\n",
       "      <th>15606</th>\n",
       "      <td>2000</td>\n",
       "      <td>Honda</td>\n",
       "      <td>Insight</td>\n",
       "      <td>Two Seaters</td>\n",
       "      <td>Regular</td>\n",
       "      <td>53.0</td>\n",
       "      <td>Y</td>\n",
       "    </tr>\n",
       "  </tbody>\n",
       "</table>\n",
       "</div>"
      ],
      "text/plain": [
       "            Year       Make              Model                       Class  \\\n",
       "Vehicle ID                                                                   \n",
       "30976       1998  Chevrolet       S10 Electric     Small Pickup Trucks 2WD   \n",
       "30971       1999       Ford  Ranger Pickup 2WD  Standard Pickup Trucks 2WD   \n",
       "30966       2000       Ford  Ranger Pickup 2WD  Standard Pickup Trucks 2WD   \n",
       "30967       2000       Ford  Ranger Pickup 2WD  Standard Pickup Trucks 2WD   \n",
       "15606       2000      Honda            Insight                 Two Seaters   \n",
       "\n",
       "              Fuel Type  Combined MPG (FT1) Start Stop Technology  \n",
       "Vehicle ID                                                         \n",
       "30976       Electricity                55.0                     N  \n",
       "30971       Electricity                58.0                     N  \n",
       "30966       Electricity                58.0                     N  \n",
       "30967       Electricity                56.0                     N  \n",
       "15606           Regular                53.0                     Y  "
      ]
     },
     "execution_count": 15,
     "metadata": {},
     "output_type": "execute_result"
    }
   ],
   "source": [
    "fuel[mpg50_60].head()"
   ]
  },
  {
   "cell_type": "code",
   "execution_count": 16,
   "id": "68383a04",
   "metadata": {},
   "outputs": [
    {
     "name": "stdout",
     "output_type": "stream",
     "text": [
      "There are 4320 cars within the list ['Reanult', 'Toyota', 'Ford']\n"
     ]
    }
   ],
   "source": [
    "print(\"There are\",len(fuel[isInList]),\"cars within the list\",listOfCars)"
   ]
  },
  {
   "cell_type": "code",
   "execution_count": 17,
   "id": "02e31b90",
   "metadata": {},
   "outputs": [
    {
     "name": "stdout",
     "output_type": "stream",
     "text": [
      "There are 31374 cars where Start/Stop technology is not determined\n"
     ]
    }
   ],
   "source": [
    "print(\"There are\",len(fuel[isNoStartStopDefined]),\"cars where Start/Stop technology is not determined\")"
   ]
  },
  {
   "cell_type": "code",
   "execution_count": 18,
   "id": "339eee60",
   "metadata": {},
   "outputs": [
    {
     "name": "stdout",
     "output_type": "stream",
     "text": [
      "There are 310 cars where Stop/Stop technology is determined\n"
     ]
    }
   ],
   "source": [
    "print(\"There are\",len(fuel[isStartStopDefined]),\"cars where Stop/Stop technology is determined\")"
   ]
  },
  {
   "cell_type": "code",
   "execution_count": 19,
   "id": "45bbbabd",
   "metadata": {},
   "outputs": [
    {
     "name": "stdout",
     "output_type": "stream",
     "text": [
      "There are 13 cars with MPG value between 50 and 60\n"
     ]
    }
   ],
   "source": [
    "print(\"There are\",len(fuel[mpg50_60]),\"cars with MPG value between 50 and 60\")"
   ]
  },
  {
   "cell_type": "code",
   "execution_count": 20,
   "id": "c5a9a19b",
   "metadata": {},
   "outputs": [
    {
     "name": "stdout",
     "output_type": "stream",
     "text": [
      "There are 4320 cars within the list ['Reanult', 'Toyota', 'Ford']\n"
     ]
    }
   ],
   "source": [
    "#other way\n",
    "\n",
    "print('There are %d cars within the list %s' % (len(fuel[isInList]), listOfCars))"
   ]
  },
  {
   "cell_type": "code",
   "execution_count": null,
   "id": "0f72c4c5",
   "metadata": {},
   "outputs": [],
   "source": []
  }
 ],
 "metadata": {
  "kernelspec": {
   "display_name": "Python 3 (ipykernel)",
   "language": "python",
   "name": "python3"
  },
  "language_info": {
   "codemirror_mode": {
    "name": "ipython",
    "version": 3
   },
   "file_extension": ".py",
   "mimetype": "text/x-python",
   "name": "python",
   "nbconvert_exporter": "python",
   "pygments_lexer": "ipython3",
   "version": "3.9.7"
  }
 },
 "nbformat": 4,
 "nbformat_minor": 5
}
