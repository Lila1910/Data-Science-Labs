{
 "cells": [
  {
   "cell_type": "code",
   "execution_count": 2,
   "id": "4b49fca4",
   "metadata": {},
   "outputs": [],
   "source": [
    "import pandas as pd\n",
    "import numpy as np\n",
    "suppliers=pd.read_csv(\"./course-files/northwind-mongo-master/suppliers.csv\",usecols=['SupplierID','CompanyName','City'])\n",
    "products=pd.read_csv(\"./course-files/northwind-mongo-master/products_del_2.csv\",usecols=['ProductID','ProductName','SupplierID'])"
   ]
  },
  {
   "cell_type": "code",
   "execution_count": 3,
   "id": "58abb63e",
   "metadata": {},
   "outputs": [
    {
     "data": {
      "text/html": [
       "<div>\n",
       "<style scoped>\n",
       "    .dataframe tbody tr th:only-of-type {\n",
       "        vertical-align: middle;\n",
       "    }\n",
       "\n",
       "    .dataframe tbody tr th {\n",
       "        vertical-align: top;\n",
       "    }\n",
       "\n",
       "    .dataframe thead th {\n",
       "        text-align: right;\n",
       "    }\n",
       "</style>\n",
       "<table border=\"1\" class=\"dataframe\">\n",
       "  <thead>\n",
       "    <tr style=\"text-align: right;\">\n",
       "      <th></th>\n",
       "      <th>SupplierID</th>\n",
       "      <th>CompanyName</th>\n",
       "      <th>City</th>\n",
       "    </tr>\n",
       "  </thead>\n",
       "  <tbody>\n",
       "    <tr>\n",
       "      <th>0</th>\n",
       "      <td>1</td>\n",
       "      <td>Exotic Liquids</td>\n",
       "      <td>London</td>\n",
       "    </tr>\n",
       "    <tr>\n",
       "      <th>1</th>\n",
       "      <td>2</td>\n",
       "      <td>New Orleans Cajun Delights</td>\n",
       "      <td>New Orleans</td>\n",
       "    </tr>\n",
       "    <tr>\n",
       "      <th>2</th>\n",
       "      <td>3</td>\n",
       "      <td>Grandma Kelly's Homestead</td>\n",
       "      <td>Ann Arbor</td>\n",
       "    </tr>\n",
       "    <tr>\n",
       "      <th>3</th>\n",
       "      <td>4</td>\n",
       "      <td>Tokyo Traders</td>\n",
       "      <td>Tokyo</td>\n",
       "    </tr>\n",
       "    <tr>\n",
       "      <th>4</th>\n",
       "      <td>5</td>\n",
       "      <td>Cooperativa de Quesos 'Las Cabras'</td>\n",
       "      <td>Oviedo</td>\n",
       "    </tr>\n",
       "  </tbody>\n",
       "</table>\n",
       "</div>"
      ],
      "text/plain": [
       "   SupplierID                         CompanyName         City\n",
       "0           1                      Exotic Liquids       London\n",
       "1           2          New Orleans Cajun Delights  New Orleans\n",
       "2           3           Grandma Kelly's Homestead    Ann Arbor\n",
       "3           4                       Tokyo Traders        Tokyo\n",
       "4           5  Cooperativa de Quesos 'Las Cabras'       Oviedo"
      ]
     },
     "execution_count": 3,
     "metadata": {},
     "output_type": "execute_result"
    }
   ],
   "source": [
    "suppliers.head()"
   ]
  },
  {
   "cell_type": "code",
   "execution_count": 4,
   "id": "3f5159bb",
   "metadata": {},
   "outputs": [
    {
     "data": {
      "text/html": [
       "<div>\n",
       "<style scoped>\n",
       "    .dataframe tbody tr th:only-of-type {\n",
       "        vertical-align: middle;\n",
       "    }\n",
       "\n",
       "    .dataframe tbody tr th {\n",
       "        vertical-align: top;\n",
       "    }\n",
       "\n",
       "    .dataframe thead th {\n",
       "        text-align: right;\n",
       "    }\n",
       "</style>\n",
       "<table border=\"1\" class=\"dataframe\">\n",
       "  <thead>\n",
       "    <tr style=\"text-align: right;\">\n",
       "      <th></th>\n",
       "      <th>ProductID</th>\n",
       "      <th>ProductName</th>\n",
       "      <th>SupplierID</th>\n",
       "    </tr>\n",
       "  </thead>\n",
       "  <tbody>\n",
       "    <tr>\n",
       "      <th>0</th>\n",
       "      <td>1</td>\n",
       "      <td>Chai</td>\n",
       "      <td>1</td>\n",
       "    </tr>\n",
       "    <tr>\n",
       "      <th>1</th>\n",
       "      <td>2</td>\n",
       "      <td>Chang</td>\n",
       "      <td>1</td>\n",
       "    </tr>\n",
       "    <tr>\n",
       "      <th>2</th>\n",
       "      <td>6</td>\n",
       "      <td>Grandma's Boysenberry Spread</td>\n",
       "      <td>3</td>\n",
       "    </tr>\n",
       "    <tr>\n",
       "      <th>3</th>\n",
       "      <td>7</td>\n",
       "      <td>Uncle Bob's Organic Dried Pears</td>\n",
       "      <td>3</td>\n",
       "    </tr>\n",
       "    <tr>\n",
       "      <th>4</th>\n",
       "      <td>8</td>\n",
       "      <td>Northwoods Cranberry Sauce</td>\n",
       "      <td>3</td>\n",
       "    </tr>\n",
       "  </tbody>\n",
       "</table>\n",
       "</div>"
      ],
      "text/plain": [
       "   ProductID                      ProductName  SupplierID\n",
       "0          1                             Chai           1\n",
       "1          2                            Chang           1\n",
       "2          6     Grandma's Boysenberry Spread           3\n",
       "3          7  Uncle Bob's Organic Dried Pears           3\n",
       "4          8       Northwoods Cranberry Sauce           3"
      ]
     },
     "execution_count": 4,
     "metadata": {},
     "output_type": "execute_result"
    }
   ],
   "source": [
    "products.head()"
   ]
  },
  {
   "cell_type": "code",
   "execution_count": 5,
   "id": "76480ccf",
   "metadata": {},
   "outputs": [],
   "source": [
    "sup_prod=suppliers.merge(products,on='SupplierID',indicator=True)"
   ]
  },
  {
   "cell_type": "code",
   "execution_count": 6,
   "id": "4623b1da",
   "metadata": {},
   "outputs": [
    {
     "name": "stdout",
     "output_type": "stream",
     "text": [
      "29\n",
      "68\n",
      "68\n"
     ]
    }
   ],
   "source": [
    "print(len(suppliers))\n",
    "print(len(products))\n",
    "print(len(sup_prod))"
   ]
  },
  {
   "cell_type": "code",
   "execution_count": 7,
   "id": "af724701",
   "metadata": {},
   "outputs": [
    {
     "data": {
      "text/html": [
       "<div>\n",
       "<style scoped>\n",
       "    .dataframe tbody tr th:only-of-type {\n",
       "        vertical-align: middle;\n",
       "    }\n",
       "\n",
       "    .dataframe tbody tr th {\n",
       "        vertical-align: top;\n",
       "    }\n",
       "\n",
       "    .dataframe thead th {\n",
       "        text-align: right;\n",
       "    }\n",
       "</style>\n",
       "<table border=\"1\" class=\"dataframe\">\n",
       "  <thead>\n",
       "    <tr style=\"text-align: right;\">\n",
       "      <th></th>\n",
       "      <th>SupplierID</th>\n",
       "      <th>CompanyName</th>\n",
       "      <th>City</th>\n",
       "      <th>ProductID</th>\n",
       "      <th>ProductName</th>\n",
       "      <th>_merge</th>\n",
       "    </tr>\n",
       "  </thead>\n",
       "  <tbody>\n",
       "    <tr>\n",
       "      <th>0</th>\n",
       "      <td>1</td>\n",
       "      <td>Exotic Liquids</td>\n",
       "      <td>London</td>\n",
       "      <td>1.0</td>\n",
       "      <td>Chai</td>\n",
       "      <td>both</td>\n",
       "    </tr>\n",
       "    <tr>\n",
       "      <th>1</th>\n",
       "      <td>1</td>\n",
       "      <td>Exotic Liquids</td>\n",
       "      <td>London</td>\n",
       "      <td>2.0</td>\n",
       "      <td>Chang</td>\n",
       "      <td>both</td>\n",
       "    </tr>\n",
       "    <tr>\n",
       "      <th>2</th>\n",
       "      <td>2</td>\n",
       "      <td>New Orleans Cajun Delights</td>\n",
       "      <td>New Orleans</td>\n",
       "      <td>NaN</td>\n",
       "      <td>NaN</td>\n",
       "      <td>left_only</td>\n",
       "    </tr>\n",
       "    <tr>\n",
       "      <th>3</th>\n",
       "      <td>3</td>\n",
       "      <td>Grandma Kelly's Homestead</td>\n",
       "      <td>Ann Arbor</td>\n",
       "      <td>6.0</td>\n",
       "      <td>Grandma's Boysenberry Spread</td>\n",
       "      <td>both</td>\n",
       "    </tr>\n",
       "    <tr>\n",
       "      <th>4</th>\n",
       "      <td>3</td>\n",
       "      <td>Grandma Kelly's Homestead</td>\n",
       "      <td>Ann Arbor</td>\n",
       "      <td>7.0</td>\n",
       "      <td>Uncle Bob's Organic Dried Pears</td>\n",
       "      <td>both</td>\n",
       "    </tr>\n",
       "  </tbody>\n",
       "</table>\n",
       "</div>"
      ],
      "text/plain": [
       "   SupplierID                 CompanyName         City  ProductID  \\\n",
       "0           1              Exotic Liquids       London        1.0   \n",
       "1           1              Exotic Liquids       London        2.0   \n",
       "2           2  New Orleans Cajun Delights  New Orleans        NaN   \n",
       "3           3   Grandma Kelly's Homestead    Ann Arbor        6.0   \n",
       "4           3   Grandma Kelly's Homestead    Ann Arbor        7.0   \n",
       "\n",
       "                       ProductName     _merge  \n",
       "0                             Chai       both  \n",
       "1                            Chang       both  \n",
       "2                              NaN  left_only  \n",
       "3     Grandma's Boysenberry Spread       both  \n",
       "4  Uncle Bob's Organic Dried Pears       both  "
      ]
     },
     "execution_count": 7,
     "metadata": {},
     "output_type": "execute_result"
    }
   ],
   "source": [
    "sup_prod_left=suppliers.merge(products,on='SupplierID',how='left',indicator=True)\n",
    "sup_prod_left.head()"
   ]
  },
  {
   "cell_type": "code",
   "execution_count": 8,
   "id": "73ca9555",
   "metadata": {},
   "outputs": [
    {
     "name": "stdout",
     "output_type": "stream",
     "text": [
      "29\n",
      "68\n",
      "70\n"
     ]
    }
   ],
   "source": [
    "print(len(suppliers))\n",
    "print(len(products))\n",
    "print(len(sup_prod_left))"
   ]
  },
  {
   "cell_type": "code",
   "execution_count": 9,
   "id": "84b48f79",
   "metadata": {},
   "outputs": [
    {
     "data": {
      "text/html": [
       "<div>\n",
       "<style scoped>\n",
       "    .dataframe tbody tr th:only-of-type {\n",
       "        vertical-align: middle;\n",
       "    }\n",
       "\n",
       "    .dataframe tbody tr th {\n",
       "        vertical-align: top;\n",
       "    }\n",
       "\n",
       "    .dataframe thead th {\n",
       "        text-align: right;\n",
       "    }\n",
       "</style>\n",
       "<table border=\"1\" class=\"dataframe\">\n",
       "  <thead>\n",
       "    <tr style=\"text-align: right;\">\n",
       "      <th></th>\n",
       "      <th>SupplierID</th>\n",
       "      <th>CompanyName</th>\n",
       "      <th>City</th>\n",
       "      <th>ProductID</th>\n",
       "      <th>ProductName</th>\n",
       "      <th>_merge</th>\n",
       "    </tr>\n",
       "  </thead>\n",
       "  <tbody>\n",
       "    <tr>\n",
       "      <th>2</th>\n",
       "      <td>2</td>\n",
       "      <td>New Orleans Cajun Delights</td>\n",
       "      <td>New Orleans</td>\n",
       "      <td>NaN</td>\n",
       "      <td>NaN</td>\n",
       "      <td>left_only</td>\n",
       "    </tr>\n",
       "    <tr>\n",
       "      <th>67</th>\n",
       "      <td>27</td>\n",
       "      <td>Escargots Nouveaux</td>\n",
       "      <td>Montceau</td>\n",
       "      <td>NaN</td>\n",
       "      <td>NaN</td>\n",
       "      <td>left_only</td>\n",
       "    </tr>\n",
       "  </tbody>\n",
       "</table>\n",
       "</div>"
      ],
      "text/plain": [
       "    SupplierID                 CompanyName         City  ProductID  \\\n",
       "2            2  New Orleans Cajun Delights  New Orleans        NaN   \n",
       "67          27          Escargots Nouveaux     Montceau        NaN   \n",
       "\n",
       "   ProductName     _merge  \n",
       "2          NaN  left_only  \n",
       "67         NaN  left_only  "
      ]
     },
     "execution_count": 9,
     "metadata": {},
     "output_type": "execute_result"
    }
   ],
   "source": [
    "sup_prod_left[sup_prod_left['_merge']=='left_only']"
   ]
  },
  {
   "cell_type": "code",
   "execution_count": 13,
   "id": "18437a72",
   "metadata": {},
   "outputs": [
    {
     "data": {
      "text/html": [
       "<div>\n",
       "<style scoped>\n",
       "    .dataframe tbody tr th:only-of-type {\n",
       "        vertical-align: middle;\n",
       "    }\n",
       "\n",
       "    .dataframe tbody tr th {\n",
       "        vertical-align: top;\n",
       "    }\n",
       "\n",
       "    .dataframe thead th {\n",
       "        text-align: right;\n",
       "    }\n",
       "</style>\n",
       "<table border=\"1\" class=\"dataframe\">\n",
       "  <thead>\n",
       "    <tr style=\"text-align: right;\">\n",
       "      <th></th>\n",
       "      <th>ProductID</th>\n",
       "      <th>ProductName</th>\n",
       "      <th>SupplierID</th>\n",
       "      <th>CompanyName</th>\n",
       "      <th>City</th>\n",
       "      <th>_merge</th>\n",
       "    </tr>\n",
       "  </thead>\n",
       "  <tbody>\n",
       "    <tr>\n",
       "      <th>0</th>\n",
       "      <td>1.0</td>\n",
       "      <td>Chai</td>\n",
       "      <td>1</td>\n",
       "      <td>Exotic Liquids</td>\n",
       "      <td>London</td>\n",
       "      <td>both</td>\n",
       "    </tr>\n",
       "    <tr>\n",
       "      <th>1</th>\n",
       "      <td>2.0</td>\n",
       "      <td>Chang</td>\n",
       "      <td>1</td>\n",
       "      <td>Exotic Liquids</td>\n",
       "      <td>London</td>\n",
       "      <td>both</td>\n",
       "    </tr>\n",
       "    <tr>\n",
       "      <th>2</th>\n",
       "      <td>NaN</td>\n",
       "      <td>NaN</td>\n",
       "      <td>2</td>\n",
       "      <td>New Orleans Cajun Delights</td>\n",
       "      <td>New Orleans</td>\n",
       "      <td>right_only</td>\n",
       "    </tr>\n",
       "    <tr>\n",
       "      <th>3</th>\n",
       "      <td>6.0</td>\n",
       "      <td>Grandma's Boysenberry Spread</td>\n",
       "      <td>3</td>\n",
       "      <td>Grandma Kelly's Homestead</td>\n",
       "      <td>Ann Arbor</td>\n",
       "      <td>both</td>\n",
       "    </tr>\n",
       "    <tr>\n",
       "      <th>4</th>\n",
       "      <td>7.0</td>\n",
       "      <td>Uncle Bob's Organic Dried Pears</td>\n",
       "      <td>3</td>\n",
       "      <td>Grandma Kelly's Homestead</td>\n",
       "      <td>Ann Arbor</td>\n",
       "      <td>both</td>\n",
       "    </tr>\n",
       "  </tbody>\n",
       "</table>\n",
       "</div>"
      ],
      "text/plain": [
       "   ProductID                      ProductName  SupplierID  \\\n",
       "0        1.0                             Chai           1   \n",
       "1        2.0                            Chang           1   \n",
       "2        NaN                              NaN           2   \n",
       "3        6.0     Grandma's Boysenberry Spread           3   \n",
       "4        7.0  Uncle Bob's Organic Dried Pears           3   \n",
       "\n",
       "                  CompanyName         City      _merge  \n",
       "0              Exotic Liquids       London        both  \n",
       "1              Exotic Liquids       London        both  \n",
       "2  New Orleans Cajun Delights  New Orleans  right_only  \n",
       "3   Grandma Kelly's Homestead    Ann Arbor        both  \n",
       "4   Grandma Kelly's Homestead    Ann Arbor        both  "
      ]
     },
     "execution_count": 13,
     "metadata": {},
     "output_type": "execute_result"
    }
   ],
   "source": [
    "sup_prod_right=products.merge(suppliers,on='SupplierID',how='right',indicator=True)\n",
    "sup_prod_right.head()"
   ]
  },
  {
   "cell_type": "code",
   "execution_count": 14,
   "id": "802a3cbc",
   "metadata": {},
   "outputs": [
    {
     "name": "stdout",
     "output_type": "stream",
     "text": [
      "29\n",
      "68\n",
      "70\n"
     ]
    }
   ],
   "source": [
    "print(len(suppliers))\n",
    "print(len(products))\n",
    "print(len(sup_prod_left))"
   ]
  },
  {
   "cell_type": "code",
   "execution_count": 15,
   "id": "1dd45c91",
   "metadata": {},
   "outputs": [
    {
     "data": {
      "text/html": [
       "<div>\n",
       "<style scoped>\n",
       "    .dataframe tbody tr th:only-of-type {\n",
       "        vertical-align: middle;\n",
       "    }\n",
       "\n",
       "    .dataframe tbody tr th {\n",
       "        vertical-align: top;\n",
       "    }\n",
       "\n",
       "    .dataframe thead th {\n",
       "        text-align: right;\n",
       "    }\n",
       "</style>\n",
       "<table border=\"1\" class=\"dataframe\">\n",
       "  <thead>\n",
       "    <tr style=\"text-align: right;\">\n",
       "      <th></th>\n",
       "      <th>ProductID</th>\n",
       "      <th>ProductName</th>\n",
       "      <th>SupplierID</th>\n",
       "      <th>CompanyName</th>\n",
       "      <th>City</th>\n",
       "      <th>_merge</th>\n",
       "    </tr>\n",
       "  </thead>\n",
       "  <tbody>\n",
       "    <tr>\n",
       "      <th>2</th>\n",
       "      <td>NaN</td>\n",
       "      <td>NaN</td>\n",
       "      <td>2</td>\n",
       "      <td>New Orleans Cajun Delights</td>\n",
       "      <td>New Orleans</td>\n",
       "      <td>right_only</td>\n",
       "    </tr>\n",
       "    <tr>\n",
       "      <th>67</th>\n",
       "      <td>NaN</td>\n",
       "      <td>NaN</td>\n",
       "      <td>27</td>\n",
       "      <td>Escargots Nouveaux</td>\n",
       "      <td>Montceau</td>\n",
       "      <td>right_only</td>\n",
       "    </tr>\n",
       "  </tbody>\n",
       "</table>\n",
       "</div>"
      ],
      "text/plain": [
       "    ProductID ProductName  SupplierID                 CompanyName  \\\n",
       "2         NaN         NaN           2  New Orleans Cajun Delights   \n",
       "67        NaN         NaN          27          Escargots Nouveaux   \n",
       "\n",
       "           City      _merge  \n",
       "2   New Orleans  right_only  \n",
       "67     Montceau  right_only  "
      ]
     },
     "execution_count": 15,
     "metadata": {},
     "output_type": "execute_result"
    }
   ],
   "source": [
    "sup_prod_right[sup_prod_right['_merge']=='right_only']"
   ]
  },
  {
   "cell_type": "code",
   "execution_count": null,
   "id": "9f79e993",
   "metadata": {},
   "outputs": [],
   "source": []
  }
 ],
 "metadata": {
  "kernelspec": {
   "display_name": "Python 3 (ipykernel)",
   "language": "python",
   "name": "python3"
  },
  "language_info": {
   "codemirror_mode": {
    "name": "ipython",
    "version": 3
   },
   "file_extension": ".py",
   "mimetype": "text/x-python",
   "name": "python",
   "nbconvert_exporter": "python",
   "pygments_lexer": "ipython3",
   "version": "3.9.7"
  }
 },
 "nbformat": 4,
 "nbformat_minor": 5
}
